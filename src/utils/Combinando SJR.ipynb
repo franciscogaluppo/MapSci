{
 "cells": [
  {
   "cell_type": "markdown",
   "metadata": {},
   "source": [
    "# Combinando SJR\n",
    "\n",
    "Combinando os arquivos csv do SCImago Journal Rank"
   ]
  },
  {
   "cell_type": "code",
   "execution_count": 1,
   "metadata": {},
   "outputs": [],
   "source": [
    "import pandas as pd"
   ]
  },
  {
   "cell_type": "markdown",
   "metadata": {},
   "source": [
    "Primeiro arquivo"
   ]
  },
  {
   "cell_type": "code",
   "execution_count": 2,
   "metadata": {},
   "outputs": [
    {
     "data": {
      "text/html": [
       "<div>\n",
       "<style scoped>\n",
       "    .dataframe tbody tr th:only-of-type {\n",
       "        vertical-align: middle;\n",
       "    }\n",
       "\n",
       "    .dataframe tbody tr th {\n",
       "        vertical-align: top;\n",
       "    }\n",
       "\n",
       "    .dataframe thead th {\n",
       "        text-align: right;\n",
       "    }\n",
       "</style>\n",
       "<table border=\"1\" class=\"dataframe\">\n",
       "  <thead>\n",
       "    <tr style=\"text-align: right;\">\n",
       "      <th></th>\n",
       "      <th>Title</th>\n",
       "      <th>Type</th>\n",
       "      <th>Country</th>\n",
       "      <th>Categories</th>\n",
       "    </tr>\n",
       "    <tr>\n",
       "      <th>Sourceid</th>\n",
       "      <th></th>\n",
       "      <th></th>\n",
       "      <th></th>\n",
       "      <th></th>\n",
       "    </tr>\n",
       "  </thead>\n",
       "  <tbody>\n",
       "    <tr>\n",
       "      <th>28773</th>\n",
       "      <td>CA - A Cancer Journal for Clinicians</td>\n",
       "      <td>journal</td>\n",
       "      <td>United States</td>\n",
       "      <td>Hematology (Q1); Oncology (Q1)</td>\n",
       "    </tr>\n",
       "    <tr>\n",
       "      <th>19434</th>\n",
       "      <td>MMWR. Recommendations and reports : Morbidity ...</td>\n",
       "      <td>journal</td>\n",
       "      <td>United States</td>\n",
       "      <td>Epidemiology (Q1); Health Information Manageme...</td>\n",
       "    </tr>\n",
       "    <tr>\n",
       "      <th>21100812243</th>\n",
       "      <td>Nature Reviews Materials</td>\n",
       "      <td>journal</td>\n",
       "      <td>United Kingdom</td>\n",
       "      <td>Biomaterials (Q1); Electronic, Optical and Mag...</td>\n",
       "    </tr>\n",
       "    <tr>\n",
       "      <th>29431</th>\n",
       "      <td>Quarterly Journal of Economics</td>\n",
       "      <td>journal</td>\n",
       "      <td>United Kingdom</td>\n",
       "      <td>Economics and Econometrics (Q1)</td>\n",
       "    </tr>\n",
       "    <tr>\n",
       "      <th>18991</th>\n",
       "      <td>Nature Reviews Genetics</td>\n",
       "      <td>journal</td>\n",
       "      <td>United Kingdom</td>\n",
       "      <td>Genetics (Q1); Genetics (clinical) (Q1); Molec...</td>\n",
       "    </tr>\n",
       "    <tr>\n",
       "      <th>20315</th>\n",
       "      <td>Nature Reviews Molecular Cell Biology</td>\n",
       "      <td>journal</td>\n",
       "      <td>United Kingdom</td>\n",
       "      <td>Cell Biology (Q1); Molecular Biology (Q1)</td>\n",
       "    </tr>\n",
       "    <tr>\n",
       "      <th>12464</th>\n",
       "      <td>Nature Reviews Cancer</td>\n",
       "      <td>journal</td>\n",
       "      <td>United Kingdom</td>\n",
       "      <td>Cancer Research (Q1); Oncology (Q1)</td>\n",
       "    </tr>\n",
       "    <tr>\n",
       "      <th>58530</th>\n",
       "      <td>National vital statistics reports : from the C...</td>\n",
       "      <td>journal</td>\n",
       "      <td>United States</td>\n",
       "      <td>Life-span and Life-course Studies (Q1)</td>\n",
       "    </tr>\n",
       "    <tr>\n",
       "      <th>21318</th>\n",
       "      <td>Nature Reviews Immunology</td>\n",
       "      <td>journal</td>\n",
       "      <td>United Kingdom</td>\n",
       "      <td>Immunology (Q1); Immunology and Allergy (Q1); ...</td>\n",
       "    </tr>\n",
       "    <tr>\n",
       "      <th>18434</th>\n",
       "      <td>Cell</td>\n",
       "      <td>journal</td>\n",
       "      <td>United States</td>\n",
       "      <td>Biochemistry, Genetics and Molecular Biology (...</td>\n",
       "    </tr>\n",
       "  </tbody>\n",
       "</table>\n",
       "</div>"
      ],
      "text/plain": [
       "                                                         Title     Type  \\\n",
       "Sourceid                                                                  \n",
       "28773                     CA - A Cancer Journal for Clinicians  journal   \n",
       "19434        MMWR. Recommendations and reports : Morbidity ...  journal   \n",
       "21100812243                           Nature Reviews Materials  journal   \n",
       "29431                           Quarterly Journal of Economics  journal   \n",
       "18991                                  Nature Reviews Genetics  journal   \n",
       "20315                    Nature Reviews Molecular Cell Biology  journal   \n",
       "12464                                    Nature Reviews Cancer  journal   \n",
       "58530        National vital statistics reports : from the C...  journal   \n",
       "21318                                Nature Reviews Immunology  journal   \n",
       "18434                                                     Cell  journal   \n",
       "\n",
       "                    Country                                         Categories  \n",
       "Sourceid                                                                        \n",
       "28773         United States                     Hematology (Q1); Oncology (Q1)  \n",
       "19434         United States  Epidemiology (Q1); Health Information Manageme...  \n",
       "21100812243  United Kingdom  Biomaterials (Q1); Electronic, Optical and Mag...  \n",
       "29431        United Kingdom                    Economics and Econometrics (Q1)  \n",
       "18991        United Kingdom  Genetics (Q1); Genetics (clinical) (Q1); Molec...  \n",
       "20315        United Kingdom          Cell Biology (Q1); Molecular Biology (Q1)  \n",
       "12464        United Kingdom                Cancer Research (Q1); Oncology (Q1)  \n",
       "58530         United States             Life-span and Life-course Studies (Q1)  \n",
       "21318        United Kingdom  Immunology (Q1); Immunology and Allergy (Q1); ...  \n",
       "18434         United States  Biochemistry, Genetics and Molecular Biology (...  "
      ]
     },
     "execution_count": 2,
     "metadata": {},
     "output_type": "execute_result"
    }
   ],
   "source": [
    "df = pd.read_csv(\"../dataset/SJR/scimagojr 2018.csv\", sep=\";\",\n",
    "        header=0, usecols=[\"Sourceid\", \"Title\", \"Type\", \"Country\", \"Categories\"])\n",
    "df = df.set_index(\"Sourceid\")\n",
    "df.head(10)"
   ]
  },
  {
   "cell_type": "markdown",
   "metadata": {},
   "source": [
    "Adiciona linhas dos demais arquivos que não aparecem no primeiro, em ordem decrescente no ano"
   ]
  },
  {
   "cell_type": "code",
   "execution_count": 3,
   "metadata": {},
   "outputs": [],
   "source": [
    "for ano in range(2017, 1998, -1):\n",
    "    new_df = pd.read_csv(\"../dataset/SJR/scimagojr \" + str(ano) + \".csv\", sep=\";\",\n",
    "                header=0, usecols=[\"Sourceid\", \"Title\", \"Type\", \"Country\", \"Categories\"])\n",
    "    new_df = new_df.set_index(\"Sourceid\")\n",
    "    df = df.append(new_df.loc[~new_df.index.isin(df.index)])"
   ]
  },
  {
   "cell_type": "markdown",
   "metadata": {},
   "source": [
    "Guarda o arquivo"
   ]
  },
  {
   "cell_type": "code",
   "execution_count": 4,
   "metadata": {},
   "outputs": [],
   "source": [
    "df.to_csv(\"../dataset/SJR/scimagojr completo.csv\", sep=\";\")"
   ]
  }
 ],
 "metadata": {
  "kernelspec": {
   "display_name": "Python 3",
   "language": "python",
   "name": "python3"
  },
  "language_info": {
   "codemirror_mode": {
    "name": "ipython",
    "version": 3
   },
   "file_extension": ".py",
   "mimetype": "text/x-python",
   "name": "python",
   "nbconvert_exporter": "python",
   "pygments_lexer": "ipython3",
   "version": "3.8.1"
  }
 },
 "nbformat": 4,
 "nbformat_minor": 4
}
