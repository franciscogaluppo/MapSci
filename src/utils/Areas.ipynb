{
 "cells": [
  {
   "cell_type": "markdown",
   "metadata": {},
   "source": [
    "# Areas\n",
    "\n",
    "Como os dados de areas.txt não estão completos, é preciso adicionar as categorias intermediárias e as áreas que faltam"
   ]
  },
  {
   "cell_type": "code",
   "execution_count": 1,
   "metadata": {},
   "outputs": [],
   "source": [
    "import pandas as pd\n",
    "import numpy as np"
   ]
  },
  {
   "cell_type": "markdown",
   "metadata": {},
   "source": [
    "O dicionário abaixo é a classificação intermediária de acordo com o Scopus"
   ]
  },
  {
   "cell_type": "code",
   "execution_count": 2,
   "metadata": {},
   "outputs": [],
   "source": [
    "clss = dict()\n",
    "clss[10] = \"multidisciplinary\"\n",
    "clss[11] = \"agricultural and biological sciences\"\n",
    "clss[12] = \"arts and humanities\"\n",
    "clss[13] = \"biochemistry, genetics and molecular biology\"\n",
    "clss[14] = \"business, management and accounting\"\n",
    "clss[15] = \"chemical engineering\"\n",
    "clss[16] = \"chemistry\"\n",
    "clss[17] = \"computer science\"\n",
    "clss[18] = \"decision sciences\"\n",
    "clss[19] = \"earth and planetary sciences\"\n",
    "clss[20] = \"economics, econometrics and finance\"\n",
    "clss[21] = \"energy\"\n",
    "clss[22] = \"engineering\"\n",
    "clss[23] = \"environmental science\"\n",
    "clss[24] = \"immunology and microbiology\"\n",
    "clss[25] = \"materials science\"\n",
    "clss[26] = \"mathematics\"\n",
    "clss[27] = \"medicine\"\n",
    "clss[28] = \"neuroscience\"\n",
    "clss[29] = \"nursing\"\n",
    "clss[30] = \"pharmacology, toxicology and pharmaceutics\"\n",
    "clss[31] = \"physics and astronomy\"\n",
    "clss[32] = \"psychology\"\n",
    "clss[33] = \"social sciences\"\n",
    "clss[34] = \"veterinary\"\n",
    "clss[35] = \"dentistry\"\n",
    "clss[36] = \"health professions\""
   ]
  },
  {
   "cell_type": "markdown",
   "metadata": {},
   "source": [
    "Podemos ler as categorias e adicionar uma nova coluna de classificação"
   ]
  },
  {
   "cell_type": "code",
   "execution_count": 3,
   "metadata": {},
   "outputs": [
    {
     "data": {
      "text/html": [
       "<div>\n",
       "<style scoped>\n",
       "    .dataframe tbody tr th:only-of-type {\n",
       "        vertical-align: middle;\n",
       "    }\n",
       "\n",
       "    .dataframe tbody tr th {\n",
       "        vertical-align: top;\n",
       "    }\n",
       "\n",
       "    .dataframe thead th {\n",
       "        text-align: right;\n",
       "    }\n",
       "</style>\n",
       "<table border=\"1\" class=\"dataframe\">\n",
       "  <thead>\n",
       "    <tr style=\"text-align: right;\">\n",
       "      <th></th>\n",
       "      <th>Code</th>\n",
       "      <th>Field</th>\n",
       "      <th>Subject area</th>\n",
       "      <th>Classification</th>\n",
       "    </tr>\n",
       "  </thead>\n",
       "  <tbody>\n",
       "    <tr>\n",
       "      <th>0</th>\n",
       "      <td>1000</td>\n",
       "      <td>multidisciplinary</td>\n",
       "      <td>health sciences</td>\n",
       "      <td>multidisciplinary</td>\n",
       "    </tr>\n",
       "    <tr>\n",
       "      <th>1</th>\n",
       "      <td>1100</td>\n",
       "      <td>general agricultural and biological sciences</td>\n",
       "      <td>life sciences</td>\n",
       "      <td>agricultural and biological sciences</td>\n",
       "    </tr>\n",
       "    <tr>\n",
       "      <th>2</th>\n",
       "      <td>1101</td>\n",
       "      <td>agricultural and biological sciences (miscella...</td>\n",
       "      <td>life sciences</td>\n",
       "      <td>agricultural and biological sciences</td>\n",
       "    </tr>\n",
       "    <tr>\n",
       "      <th>3</th>\n",
       "      <td>1102</td>\n",
       "      <td>agronomy and crop science</td>\n",
       "      <td>life sciences</td>\n",
       "      <td>agricultural and biological sciences</td>\n",
       "    </tr>\n",
       "    <tr>\n",
       "      <th>4</th>\n",
       "      <td>1103</td>\n",
       "      <td>animal science and zoology</td>\n",
       "      <td>life sciences</td>\n",
       "      <td>agricultural and biological sciences</td>\n",
       "    </tr>\n",
       "  </tbody>\n",
       "</table>\n",
       "</div>"
      ],
      "text/plain": [
       "   Code                                              Field     Subject area  \\\n",
       "0  1000                                  multidisciplinary  health sciences   \n",
       "1  1100       general agricultural and biological sciences    life sciences   \n",
       "2  1101  agricultural and biological sciences (miscella...    life sciences   \n",
       "3  1102                          agronomy and crop science    life sciences   \n",
       "4  1103                         animal science and zoology    life sciences   \n",
       "\n",
       "                         Classification  \n",
       "0                     multidisciplinary  \n",
       "1  agricultural and biological sciences  \n",
       "2  agricultural and biological sciences  \n",
       "3  agricultural and biological sciences  \n",
       "4  agricultural and biological sciences  "
      ]
     },
     "execution_count": 3,
     "metadata": {},
     "output_type": "execute_result"
    }
   ],
   "source": [
    "areas = pd.read_csv(\"../dataset/SJR/areas.txt\", sep=\";\")\n",
    "areas[\"Field\"] = areas[\"Field\"].apply(lambda x: x.strip().lower())\n",
    "areas[\"Subject area\"] = areas[\"Subject area\"].apply(lambda x: x.strip().lower())\n",
    "areas[\"Classification\"] = areas[\"Code\"].apply(lambda x: clss[int(str(x)[:2])])\n",
    "areas.head()"
   ]
  },
  {
   "cell_type": "markdown",
   "metadata": {},
   "source": [
    "Por fim, temos que adicionar algumas áreas que não foram cadastradas (mas que estão nos dados do SJR)"
   ]
  },
  {
   "cell_type": "code",
   "execution_count": 4,
   "metadata": {},
   "outputs": [],
   "source": [
    "areas = areas.append({'Field': 'e-learning', 'Subject area': \"social sciences & humanities\",\n",
    "                      \"Classification\": \"social sciences\"} , ignore_index=True)\n",
    "areas = areas.append({'Field': 'nanoscience and nanotechnology', 'Subject area': \"physical sciences\",\n",
    "                      \"Classification\": \"materials science\"} , ignore_index=True)\n",
    "areas = areas.append({'Field': 'social work', 'Subject area': \"social sciences & humanities\",\n",
    "                      \"Classification\": \"social sciences\"} , ignore_index=True)\n",
    "areas = areas.append({'Field': 'sports science', 'Subject area': \"health sciences\",\n",
    "                      \"Classification\": \"health professions\"} , ignore_index=True)"
   ]
  },
  {
   "cell_type": "markdown",
   "metadata": {},
   "source": [
    "Basta salvar os dados"
   ]
  },
  {
   "cell_type": "code",
   "execution_count": 5,
   "metadata": {},
   "outputs": [],
   "source": [
    "areas.to_pickle(\"../dataset/SJR/areas.pkl\")  # where to save it, usually as a .pkl"
   ]
  }
 ],
 "metadata": {
  "kernelspec": {
   "display_name": "Python 3",
   "language": "python",
   "name": "python3"
  },
  "language_info": {
   "codemirror_mode": {
    "name": "ipython",
    "version": 3
   },
   "file_extension": ".py",
   "mimetype": "text/x-python",
   "name": "python",
   "nbconvert_exporter": "python",
   "pygments_lexer": "ipython3",
   "version": "3.8.1"
  }
 },
 "nbformat": 4,
 "nbformat_minor": 4
}
