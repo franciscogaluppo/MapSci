{
 "cells": [
  {
   "cell_type": "markdown",
   "metadata": {},
   "source": [
    "# Combina SJR e Lattes\n",
    "\n",
    "Checa se os dados do SCImagoJR cobrem todos os periódicos e as confereências dos dados dos perfis da plataforma Lattes."
   ]
  },
  {
   "cell_type": "code",
   "execution_count": 1,
   "metadata": {},
   "outputs": [],
   "source": [
    "import unidecode\n",
    "import numpy as np\n",
    "import pandas as pd\n",
    "import re"
   ]
  },
  {
   "cell_type": "markdown",
   "metadata": {},
   "source": [
    "Dados do Qualis"
   ]
  },
  {
   "cell_type": "code",
   "execution_count": 2,
   "metadata": {},
   "outputs": [
    {
     "data": {
      "text/html": [
       "<div>\n",
       "<style scoped>\n",
       "    .dataframe tbody tr th:only-of-type {\n",
       "        vertical-align: middle;\n",
       "    }\n",
       "\n",
       "    .dataframe tbody tr th {\n",
       "        vertical-align: top;\n",
       "    }\n",
       "\n",
       "    .dataframe thead th {\n",
       "        text-align: right;\n",
       "    }\n",
       "</style>\n",
       "<table border=\"1\" class=\"dataframe\">\n",
       "  <thead>\n",
       "    <tr style=\"text-align: right;\">\n",
       "      <th></th>\n",
       "      <th>Título</th>\n",
       "      <th>Área de Avaliação</th>\n",
       "      <th>Estrato</th>\n",
       "    </tr>\n",
       "  </thead>\n",
       "  <tbody>\n",
       "    <tr>\n",
       "      <th>0</th>\n",
       "      <td>19&amp;20 (RIO DE JANEIRO)</td>\n",
       "      <td>ADMINISTRAÇÃO PÚBLICA E DE EMPRESAS, CIÊNCIAS ...</td>\n",
       "      <td>C</td>\n",
       "    </tr>\n",
       "    <tr>\n",
       "      <th>1</th>\n",
       "      <td>A BARRIGUDA: REVISTA CIENTÍFICA</td>\n",
       "      <td>ADMINISTRAÇÃO PÚBLICA E DE EMPRESAS, CIÊNCIAS ...</td>\n",
       "      <td>B4</td>\n",
       "    </tr>\n",
       "    <tr>\n",
       "      <th>2</th>\n",
       "      <td>A ECONOMIA EM REVISTA</td>\n",
       "      <td>ADMINISTRAÇÃO PÚBLICA E DE EMPRESAS, CIÊNCIAS ...</td>\n",
       "      <td>B4</td>\n",
       "    </tr>\n",
       "    <tr>\n",
       "      <th>3</th>\n",
       "      <td>A&amp;C. REVISTA DE DIREITO ADMINISTRATIVO &amp; CONST...</td>\n",
       "      <td>ADMINISTRAÇÃO PÚBLICA E DE EMPRESAS, CIÊNCIAS ...</td>\n",
       "      <td>B4</td>\n",
       "    </tr>\n",
       "    <tr>\n",
       "      <th>4</th>\n",
       "      <td>ABACUS (SYDNEY. PRINT)</td>\n",
       "      <td>ADMINISTRAÇÃO PÚBLICA E DE EMPRESAS, CIÊNCIAS ...</td>\n",
       "      <td>A2</td>\n",
       "    </tr>\n",
       "    <tr>\n",
       "      <th>5</th>\n",
       "      <td>ABCD : ARQUIVOS BRASILEIROS DE CIRURGIA DIGESTIVA</td>\n",
       "      <td>ADMINISTRAÇÃO PÚBLICA E DE EMPRESAS, CIÊNCIAS ...</td>\n",
       "      <td>B2</td>\n",
       "    </tr>\n",
       "    <tr>\n",
       "      <th>6</th>\n",
       "      <td>ABCS HEALTH SCIENCES</td>\n",
       "      <td>ADMINISTRAÇÃO PÚBLICA E DE EMPRESAS, CIÊNCIAS ...</td>\n",
       "      <td>B3</td>\n",
       "    </tr>\n",
       "    <tr>\n",
       "      <th>7</th>\n",
       "      <td>ABCS HEALTH SCIENCES</td>\n",
       "      <td>ADMINISTRAÇÃO PÚBLICA E DE EMPRESAS, CIÊNCIAS ...</td>\n",
       "      <td>B3</td>\n",
       "    </tr>\n",
       "    <tr>\n",
       "      <th>8</th>\n",
       "      <td>ABCUSTOS (SÃO LEOPOLDO, RS)</td>\n",
       "      <td>ADMINISTRAÇÃO PÚBLICA E DE EMPRESAS, CIÊNCIAS ...</td>\n",
       "      <td>B4</td>\n",
       "    </tr>\n",
       "    <tr>\n",
       "      <th>9</th>\n",
       "      <td>ACADEMIA (CARACAS)</td>\n",
       "      <td>ADMINISTRAÇÃO PÚBLICA E DE EMPRESAS, CIÊNCIAS ...</td>\n",
       "      <td>B1</td>\n",
       "    </tr>\n",
       "  </tbody>\n",
       "</table>\n",
       "</div>"
      ],
      "text/plain": [
       "                                              Título  \\\n",
       "0                             19&20 (RIO DE JANEIRO)   \n",
       "1                    A BARRIGUDA: REVISTA CIENTÍFICA   \n",
       "2                              A ECONOMIA EM REVISTA   \n",
       "3  A&C. REVISTA DE DIREITO ADMINISTRATIVO & CONST...   \n",
       "4                             ABACUS (SYDNEY. PRINT)   \n",
       "5  ABCD : ARQUIVOS BRASILEIROS DE CIRURGIA DIGESTIVA   \n",
       "6                               ABCS HEALTH SCIENCES   \n",
       "7                               ABCS HEALTH SCIENCES   \n",
       "8                        ABCUSTOS (SÃO LEOPOLDO, RS)   \n",
       "9                                 ACADEMIA (CARACAS)   \n",
       "\n",
       "                                   Área de Avaliação Estrato  \n",
       "0  ADMINISTRAÇÃO PÚBLICA E DE EMPRESAS, CIÊNCIAS ...      C   \n",
       "1  ADMINISTRAÇÃO PÚBLICA E DE EMPRESAS, CIÊNCIAS ...      B4  \n",
       "2  ADMINISTRAÇÃO PÚBLICA E DE EMPRESAS, CIÊNCIAS ...      B4  \n",
       "3  ADMINISTRAÇÃO PÚBLICA E DE EMPRESAS, CIÊNCIAS ...      B4  \n",
       "4  ADMINISTRAÇÃO PÚBLICA E DE EMPRESAS, CIÊNCIAS ...      A2  \n",
       "5  ADMINISTRAÇÃO PÚBLICA E DE EMPRESAS, CIÊNCIAS ...      B2  \n",
       "6  ADMINISTRAÇÃO PÚBLICA E DE EMPRESAS, CIÊNCIAS ...      B3  \n",
       "7  ADMINISTRAÇÃO PÚBLICA E DE EMPRESAS, CIÊNCIAS ...      B3  \n",
       "8  ADMINISTRAÇÃO PÚBLICA E DE EMPRESAS, CIÊNCIAS ...      B4  \n",
       "9  ADMINISTRAÇÃO PÚBLICA E DE EMPRESAS, CIÊNCIAS ...      B1  "
      ]
     },
     "execution_count": 2,
     "metadata": {},
     "output_type": "execute_result"
    }
   ],
   "source": [
    "qualis = pd.read_csv(\"../dataset/qualis/qualis_2013-2016.csv\", encoding=\"latin-1\", sep=\",\", header=0, usecols=[\"Título\",\"Área de Avaliação\",\"Estrato\"])\n",
    "qualis.head(10)"
   ]
  },
  {
   "cell_type": "markdown",
   "metadata": {},
   "source": [
    "Dados da plataforma Lattes"
   ]
  },
  {
   "cell_type": "code",
   "execution_count": 3,
   "metadata": {},
   "outputs": [
    {
     "data": {
      "text/html": [
       "<div>\n",
       "<style scoped>\n",
       "    .dataframe tbody tr th:only-of-type {\n",
       "        vertical-align: middle;\n",
       "    }\n",
       "\n",
       "    .dataframe tbody tr th {\n",
       "        vertical-align: top;\n",
       "    }\n",
       "\n",
       "    .dataframe thead th {\n",
       "        text-align: right;\n",
       "    }\n",
       "</style>\n",
       "<table border=\"1\" class=\"dataframe\">\n",
       "  <thead>\n",
       "    <tr style=\"text-align: right;\">\n",
       "      <th></th>\n",
       "      <th>id_pesquisador</th>\n",
       "      <th>ano_publicacao</th>\n",
       "      <th>journal_ou_conferencia</th>\n",
       "      <th>numero_pesquisadores</th>\n",
       "    </tr>\n",
       "  </thead>\n",
       "  <tbody>\n",
       "    <tr>\n",
       "      <th>0</th>\n",
       "      <td>0099900328713566</td>\n",
       "      <td>2005</td>\n",
       "      <td>Sitientibus. Série Ciências Biológicas</td>\n",
       "      <td>3.0</td>\n",
       "    </tr>\n",
       "    <tr>\n",
       "      <th>1</th>\n",
       "      <td>0099900328713566</td>\n",
       "      <td>2007</td>\n",
       "      <td>Mycotaxon</td>\n",
       "      <td>3.0</td>\n",
       "    </tr>\n",
       "    <tr>\n",
       "      <th>2</th>\n",
       "      <td>0099900328713566</td>\n",
       "      <td>2007</td>\n",
       "      <td>Mycotaxon</td>\n",
       "      <td>4.0</td>\n",
       "    </tr>\n",
       "    <tr>\n",
       "      <th>3</th>\n",
       "      <td>0099900328713566</td>\n",
       "      <td>2007</td>\n",
       "      <td>Acta Botanica Brasilica</td>\n",
       "      <td>3.0</td>\n",
       "    </tr>\n",
       "    <tr>\n",
       "      <th>4</th>\n",
       "      <td>0099900328713566</td>\n",
       "      <td>2009</td>\n",
       "      <td>Acta Botanica Brasílica (Impresso)</td>\n",
       "      <td>2.0</td>\n",
       "    </tr>\n",
       "    <tr>\n",
       "      <th>5</th>\n",
       "      <td>0099900328713566</td>\n",
       "      <td>2009</td>\n",
       "      <td>Acta Botanica Brasílica (Impresso)</td>\n",
       "      <td>2.0</td>\n",
       "    </tr>\n",
       "    <tr>\n",
       "      <th>6</th>\n",
       "      <td>0099900328713566</td>\n",
       "      <td>2008</td>\n",
       "      <td>Mycotaxon</td>\n",
       "      <td>4.0</td>\n",
       "    </tr>\n",
       "    <tr>\n",
       "      <th>7</th>\n",
       "      <td>0099900328713566</td>\n",
       "      <td>2008</td>\n",
       "      <td>Revista Brasileira de Botânica</td>\n",
       "      <td>4.0</td>\n",
       "    </tr>\n",
       "    <tr>\n",
       "      <th>8</th>\n",
       "      <td>0099900328713566</td>\n",
       "      <td>2008</td>\n",
       "      <td>Mycotaxon</td>\n",
       "      <td>4.0</td>\n",
       "    </tr>\n",
       "    <tr>\n",
       "      <th>9</th>\n",
       "      <td>0099900328713566</td>\n",
       "      <td>2008</td>\n",
       "      <td>Revista Brasileira de Botânica</td>\n",
       "      <td>3.0</td>\n",
       "    </tr>\n",
       "  </tbody>\n",
       "</table>\n",
       "</div>"
      ],
      "text/plain": [
       "     id_pesquisador ano_publicacao                  journal_ou_conferencia  \\\n",
       "0  0099900328713566           2005  Sitientibus. Série Ciências Biológicas   \n",
       "1  0099900328713566           2007                               Mycotaxon   \n",
       "2  0099900328713566           2007                               Mycotaxon   \n",
       "3  0099900328713566           2007                 Acta Botanica Brasilica   \n",
       "4  0099900328713566           2009      Acta Botanica Brasílica (Impresso)   \n",
       "5  0099900328713566           2009      Acta Botanica Brasílica (Impresso)   \n",
       "6  0099900328713566           2008                               Mycotaxon   \n",
       "7  0099900328713566           2008          Revista Brasileira de Botânica   \n",
       "8  0099900328713566           2008                               Mycotaxon   \n",
       "9  0099900328713566           2008          Revista Brasileira de Botânica   \n",
       "\n",
       "   numero_pesquisadores  \n",
       "0                   3.0  \n",
       "1                   3.0  \n",
       "2                   4.0  \n",
       "3                   3.0  \n",
       "4                   2.0  \n",
       "5                   2.0  \n",
       "6                   4.0  \n",
       "7                   4.0  \n",
       "8                   4.0  \n",
       "9                   3.0  "
      ]
     },
     "execution_count": 3,
     "metadata": {},
     "output_type": "execute_result"
    }
   ],
   "source": [
    "artigos = pd.read_csv(\"../dataset/lattes/artigos.csv\", sep=\";sep;\", usecols=[\"id_pesquisador\", \"ano_publicacao\", \"journal_ou_conferencia\", \"numero_pesquisadores\"], header=0, engine='python')\n",
    "artigos = artigos.dropna()\n",
    "artigos.head(10)"
   ]
  },
  {
   "cell_type": "markdown",
   "metadata": {},
   "source": [
    "Vamos precisar de duas funções:\n",
    "\n",
    "- Uma para tratar as strings\n",
    "- Outra pra dividir uma string com caracteres marcadores"
   ]
  },
  {
   "cell_type": "code",
   "execution_count": 4,
   "metadata": {},
   "outputs": [],
   "source": [
    "def ops(s):\n",
    "    s = re.sub(r\"\\s?\\(.*\\)\", \"\", s)\n",
    "    s = unidecode.unidecode(s)\n",
    "    s = s.lower()\n",
    "    s = re.sub(\"\\s+\", \" \", s)\n",
    "    s = s.strip()\n",
    "    \n",
    "    return s"
   ]
  },
  {
   "cell_type": "code",
   "execution_count": 5,
   "metadata": {},
   "outputs": [],
   "source": [
    "def splt(s):\n",
    "    chars = [\".\", \";\", \":\", \"/\", \"-\"]\n",
    "    subs = [s]\n",
    "    \n",
    "    for c in chars:\n",
    "        aux = list()\n",
    "        for s in subs:\n",
    "            aux += s.split(c)\n",
    "        subs = aux\n",
    "        \n",
    "    return subs"
   ]
  },
  {
   "cell_type": "markdown",
   "metadata": {},
   "source": [
    "Obtendo o conjunto dos periódicos do qualis e a lista dos do lattes"
   ]
  },
  {
   "cell_type": "code",
   "execution_count": 14,
   "metadata": {},
   "outputs": [],
   "source": [
    "qcatg = qualis[\"Área de Avaliação\"].to_list()\n",
    "qtitl = qualis[\"Título\"].to_list()\n",
    "qlist = set([ops(x) for x in qtitl])\n",
    "    \n",
    "lattes_set = [ops(x) for x in artigos[\"journal_ou_conferencia\"].to_list()]"
   ]
  },
  {
   "cell_type": "markdown",
   "metadata": {},
   "source": [
    "Contabilizando a cobertura"
   ]
  },
  {
   "cell_type": "code",
   "execution_count": 15,
   "metadata": {},
   "outputs": [],
   "source": [
    "count = len([1 for x in lattes_set if x in qlist])"
   ]
  },
  {
   "cell_type": "code",
   "execution_count": 16,
   "metadata": {},
   "outputs": [
    {
     "name": "stdout",
     "output_type": "stream",
     "text": [
      "0.8169796902514156\n"
     ]
    }
   ],
   "source": [
    "print(count/len(lattes_set))"
   ]
  },
  {
   "cell_type": "code",
   "execution_count": 20,
   "metadata": {},
   "outputs": [
    {
     "data": {
      "text/plain": [
       "49"
      ]
     },
     "execution_count": 20,
     "metadata": {},
     "output_type": "execute_result"
    }
   ],
   "source": [
    "len(set(qcatg))"
   ]
  },
  {
   "cell_type": "code",
   "execution_count": null,
   "metadata": {},
   "outputs": [],
   "source": []
  }
 ],
 "metadata": {
  "kernelspec": {
   "display_name": "Python 3",
   "language": "python",
   "name": "python3"
  },
  "language_info": {
   "codemirror_mode": {
    "name": "ipython",
    "version": 3
   },
   "file_extension": ".py",
   "mimetype": "text/x-python",
   "name": "python",
   "nbconvert_exporter": "python",
   "pygments_lexer": "ipython3",
   "version": "3.8.1"
  }
 },
 "nbformat": 4,
 "nbformat_minor": 4
}
