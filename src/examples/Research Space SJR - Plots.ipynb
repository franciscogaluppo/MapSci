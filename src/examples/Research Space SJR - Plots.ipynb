{
 "cells": [
  {
   "cell_type": "markdown",
   "metadata": {},
   "source": [
    "# The  Research  Space\n",
    "\n",
    "\"Here we use a large dataset of scholarly publications disambiguated at the individual level to create a map of science — or research  space — where links connect pairs of fields based on the probability that an individual has published in both of them.\"\n",
    "[Original Article](https://arxiv.org/ftp/arxiv/papers/1602/1602.08409.pdf)\n",
    "\n",
    "[Artigo suplementar](https://link.springer.com/content/pdf/10.1140/epjds/s13688-019-0210-z.pdf)"
   ]
  },
  {
   "cell_type": "code",
   "execution_count": null,
   "metadata": {},
   "outputs": [],
   "source": [
    "import matplotlib.pyplot as plt\n",
    "import matplotlib.colors as colors\n",
    "import matplotlib.cm as cmx\n",
    "from collections import Counter\n",
    "import geopandas as gpd\n",
    "import networkx as nx\n",
    "import pandas as pd\n",
    "import numpy as np\n",
    "import unidecode\n",
    "import re"
   ]
  },
  {
   "cell_type": "markdown",
   "metadata": {},
   "source": [
    "### Revealed Comparative Advantage\n",
    "\n",
    "\"We next use the research space to predict the future presence of an individual, organization, or country in a research field. To make these predictions we define five possible states for individuals, organizations, or countries in a research field. These states are: inactive, active, nascent, intermediate, and developed.\""
   ]
  },
  {
   "cell_type": "code",
   "execution_count": null,
   "metadata": {},
   "outputs": [],
   "source": [
    "rca = dict()\n",
    "sum_f = dict()\n",
    "sum_s = dict()\n",
    "sum_sf = 0\n",
    "\n",
    "for sf in x:\n",
    "    if sf[0] in sum_f:\n",
    "        sum_f[sf[0]] += x[sf]\n",
    "    else:\n",
    "        sum_f[sf[0]] = x[sf]\n",
    "\n",
    "    if sf[1] in sum_s:   \n",
    "        sum_s[sf[1]] += x[sf]\n",
    "    else:\n",
    "        sum_s[sf[1]] = x[sf]\n",
    "    \n",
    "    sum_sf += x[sf]\n",
    "\n",
    "    \n",
    "for sf in x:\n",
    "    rca[sf] = (x[sf]/sum_f[sf[0]])/(sum_s[sf[1]]/sum_sf)"
   ]
  },
  {
   "cell_type": "markdown",
   "metadata": {},
   "source": [
    "Também podemos computar o RCA de instituições"
   ]
  },
  {
   "cell_type": "code",
   "execution_count": null,
   "metadata": {},
   "outputs": [],
   "source": [
    "inst = bio[[\"id_pesquisador\", \"nome_instituicao\"]].set_index(\"id_pesquisador\").to_dict()[\"nome_instituicao\"]\n",
    "inst = {int(k): v for k, v in inst.items()}\n",
    "\n",
    "x_inst = dict()\n",
    "rca_inst = dict()\n",
    "sum_f_inst = dict()\n",
    "\n",
    "for sf in x:\n",
    "    ins = inst[sf[0]]\n",
    "    if (ins, sf[1]) in x_inst:\n",
    "        x_inst[(ins, sf[1])] += x[sf]\n",
    "    else:\n",
    "        x_inst[(ins, sf[1])] = x[sf]\n",
    "    \n",
    "    if ins in sum_f_inst:\n",
    "        sum_f_inst[ins] += x[sf]\n",
    "    else:\n",
    "        sum_f_inst[ins] = x[sf]\n",
    "\n",
    "    \n",
    "for sf in x_inst:\n",
    "    rca_inst[sf] = (x_inst[sf]/sum_f_inst[sf[0]])/(sum_s[sf[1]]/sum_sf)"
   ]
  },
  {
   "cell_type": "markdown",
   "metadata": {},
   "source": [
    "e de municípios/estados/regiões"
   ]
  },
  {
   "cell_type": "code",
   "execution_count": null,
   "metadata": {},
   "outputs": [],
   "source": [
    "id_cep = bio[[\"id_pesquisador\", \"cep_instituicao\"]].set_index(\"id_pesquisador\").to_dict()[\"cep_instituicao\"]\n",
    "id_estado = {int(k): cep_estado(v) for k, v in id_cep.items()}\n",
    "\n",
    "x_est = dict()\n",
    "rca_est = dict()\n",
    "sum_f_est = dict()\n",
    "\n",
    "for sf in x:\n",
    "    est = id_estado[sf[0]]\n",
    "    if (est, sf[1]) in x_est:\n",
    "        x_est[(est, sf[1])] += x[sf]\n",
    "    else:\n",
    "        x_est[(est, sf[1])] = x[sf]\n",
    "    \n",
    "    if est in sum_f_est:\n",
    "        sum_f_est[est] += x[sf]\n",
    "    else:\n",
    "        sum_f_est[est] = x[sf]\n",
    "\n",
    "    \n",
    "for sf in x_est:\n",
    "    rca_est[sf] = (x_est[sf]/sum_f_est[sf[0]])/(sum_s[sf[1]]/sum_sf)"
   ]
  },
  {
   "cell_type": "code",
   "execution_count": null,
   "metadata": {},
   "outputs": [],
   "source": [
    "nome_cep = bio[[\"nome_instituicao\", \"cep_instituicao\"]].set_index(\"nome_instituicao\").to_dict()[\"cep_instituicao\"]\n",
    "nome_estado = sorted([k for k, v in nome_cep.items() if cep_estado(v) == \"DESCONHECIDO\"])\n",
    "nome_estado[1010:1020]"
   ]
  },
  {
   "cell_type": "markdown",
   "metadata": {},
   "source": [
    "### Visualizando o RCA\n",
    "\n",
    "Áreas de maior atuação de diferentes instituições do país. Mediremos a fração de áreas de cada categoria que uma instituição tem RCA > 1."
   ]
  },
  {
   "cell_type": "code",
   "execution_count": null,
   "metadata": {},
   "outputs": [],
   "source": [
    "dict_area = areas[[\"Field\", \"Classification\"]].set_index(\"Field\").to_dict()[\"Classification\"]\n",
    "size = Counter(areas[\"Classification\"].tolist())\n",
    "macro = dict()\n",
    "\n",
    "for sf in rca_inst:\n",
    "    if rca_inst[sf] > 1:\n",
    "        if (sf[0], dict_area[sf[1]]) in macro:\n",
    "            macro[(sf[0], dict_area[sf[1]])] += 1 / size[dict_area[sf[1]]]\n",
    "        else:\n",
    "            macro[(sf[0], dict_area[sf[1]])] = 1 / size[dict_area[sf[1]]] "
   ]
  },
  {
   "cell_type": "code",
   "execution_count": null,
   "metadata": {},
   "outputs": [],
   "source": [
    "insts = [\n",
    "    \"universidade federal de minas gerais\",\n",
    "    \"universidade federal de lavras\",\n",
    "    \"universidade de sao paulo\",\n",
    "    \"universidade estadual de campinas\",\n",
    "    \"universidade federal da paraiba\",\n",
    "    \"universidade federal rural de pernambuco\",\n",
    "    \"universidade federal do rio de janeiro\",\n",
    "    \"pontificia universidade catolica de minas gerais\",\n",
    "    \"petrobras\",\n",
    "    \"ministerio da fazenda\"\n",
    "]"
   ]
  },
  {
   "cell_type": "code",
   "execution_count": null,
   "metadata": {},
   "outputs": [],
   "source": [
    "unique = areas[\"Classification\"].unique()[1:]\n",
    "\n",
    "plt.rcParams[\"figure.figsize\"] = (10,50)\n",
    "cm = cmx.get_cmap('gnuplot', 26)\n",
    "color = cm(np.linspace(0, 1, 26))\n",
    "fig = plt.figure()\n",
    "\n",
    "for i in range(len(insts)):\n",
    "    uni = insts[i]\n",
    "    areas_list = list()\n",
    "    for a in unique:\n",
    "        if (uni, a) in macro:\n",
    "            areas_list.append(macro[(uni, a)])\n",
    "        else:\n",
    "            areas_list.append(0)\n",
    "\n",
    "    sub = fig.add_subplot(10,1,i+1)\n",
    "    plt.bar(unique, areas_list, color=color, width=1.0)\n",
    "    plt.xticks(rotation=90)\n",
    "    plt.title(uni)\n",
    "    plt.ylabel(\"Fração de áreas especializadas\")\n",
    "    plt.xlabel(\"Classificação das áreas\")\n",
    "    if i < 9:\n",
    "        sub.set_xticks([])\n",
    "    \n",
    "fig.tight_layout()\n",
    "plt.show()"
   ]
  },
  {
   "cell_type": "markdown",
   "metadata": {},
   "source": [
    "Podemos também ver a rede do Research Space colorida pelos RCA dessas instituições"
   ]
  },
  {
   "cell_type": "code",
   "execution_count": null,
   "metadata": {},
   "outputs": [],
   "source": [
    "uni = \"universidade federal de lavras\"\n",
    "vals = list()\n",
    "for f in of:\n",
    "    if (uni, f) in rca_inst:\n",
    "        vals.append(rca_inst[(uni, f)])\n",
    "    else:\n",
    "        vals.append(0)\n",
    "\n",
    "pos = show_graph(k, vals, pos)"
   ]
  },
  {
   "cell_type": "code",
   "execution_count": null,
   "metadata": {},
   "outputs": [],
   "source": [
    "def rca_disc(val):\n",
    "    if val == 0:\n",
    "        return \"Inactive\"\n",
    "    if val < 0.5:\n",
    "        return \"Nascent\"\n",
    "    if val < 1:\n",
    "        return \"Intermediate\"\n",
    "    else:\n",
    "        return \"Developed\"\n",
    "\n",
    "dict_area = {of[x]:rca_disc(vals[x]) for x in range(len(of))}\n",
    "unique = [\"Inactive\", \"Nascent\", \"Intermediate\", \"Developed\"]\n",
    "subs = {u: v for v,u in enumerate(sorted(unique))}\n",
    "values = [subs[dict_area[node]] for node in of]\n",
    "\n",
    "pos = show_graph(k, values, pos, subs)"
   ]
  },
  {
   "cell_type": "code",
   "execution_count": null,
   "metadata": {},
   "outputs": [],
   "source": [
    "estado = \"31\"\n",
    "vals = list()\n",
    "for f in of:\n",
    "    if (estado, f) in rca_est:\n",
    "        vals.append(rca_est[(estado, f)])\n",
    "    else:\n",
    "        vals.append(0)\n",
    "\n",
    "def rca_disc(val):\n",
    "    if val == 0:\n",
    "        return \"Inactive\"\n",
    "    if val < 0.5:\n",
    "        return \"Nascent\"\n",
    "    if val < 1:\n",
    "        return \"Intermediate\"\n",
    "    else:\n",
    "        return \"Developed\"\n",
    "\n",
    "dict_area = {of[x]:rca_disc(vals[x]) for x in range(len(of))}\n",
    "unique = [\"Inactive\", \"Nascent\", \"Intermediate\", \"Developed\"]\n",
    "subs = {u: v for v,u in enumerate(sorted(unique))}\n",
    "values = [subs[dict_area[node]] for node in of]\n",
    "\n",
    "pos = show_graph(k, values, pos, subs)"
   ]
  },
  {
   "cell_type": "code",
   "execution_count": null,
   "metadata": {},
   "outputs": [],
   "source": [
    "gdf = gpd.read_file(\"../dataset/br_unidades_da_federacao/BRUFE250GC_SIR.shp\")\n",
    "gdf.head()"
   ]
  },
  {
   "cell_type": "code",
   "execution_count": null,
   "metadata": {},
   "outputs": [],
   "source": [
    "dict_area = areas[[\"Field\", \"Classification\"]].set_index(\"Field\").to_dict()[\"Classification\"]\n",
    "size = Counter(areas[\"Classification\"].tolist())\n",
    "macro = dict()\n",
    "\n",
    "for sf in rca_est:\n",
    "    if rca_est[sf] > 1:\n",
    "        if (sf[0], dict_area[sf[1]]) in macro:\n",
    "            macro[(sf[0], dict_area[sf[1]])] += 1 / size[dict_area[sf[1]]]\n",
    "        else:\n",
    "            macro[(sf[0], dict_area[sf[1]])] = 1 / size[dict_area[sf[1]]] "
   ]
  },
  {
   "cell_type": "code",
   "execution_count": null,
   "metadata": {},
   "outputs": [],
   "source": [
    "unique = areas[\"Classification\"].unique()[1:]\n",
    "estados = gdf[\"CD_GEOCUF\"].to_list()\n",
    "\n",
    "plt.rcParams[\"figure.figsize\"] = (60,50)\n",
    "fig = plt.figure()\n",
    "\n",
    "for i in range(len(unique)):\n",
    "    a = unique[i]\n",
    "    estados_list = list()\n",
    "    for est in estados:\n",
    "        if (est, a) in macro:\n",
    "            estados_list.append(macro[(est, a)])\n",
    "        else:\n",
    "            estados_list.append(0)\n",
    "\n",
    "    gdf[\"colors\"] = estados_list\n",
    "    ax = fig.add_subplot(6,5,i+1)\n",
    "    ax.axis('off')\n",
    "    gdf.plot(column=\"colors\", ax=ax, cmap='Blues')\n",
    "    plt.title(a)\n",
    "    \n",
    "fig.tight_layout()\n",
    "plt.show()"
   ]
  },
  {
   "cell_type": "markdown",
   "metadata": {},
   "source": [
    "Áreas urbanas\n",
    "\n",
    "\"First, we infer the country in which each affiliation-city pair is located; second, for each country, we compute a geographic distance matrix (using Vicenty’s formula) connecting each pair of cities; and lastly we use hierarchical clustering to define the different urban areas with the additional constraint that the maximum distance within each cluster has to be less than 50 km.\""
   ]
  },
  {
   "cell_type": "code",
   "execution_count": null,
   "metadata": {},
   "outputs": [],
   "source": []
  },
  {
   "cell_type": "markdown",
   "metadata": {},
   "source": [
    "### Knowledge density\n",
    "\n",
    "\"We then predict the probability that individual, organization, or country, $s$ will increase its level of development in field $f$ by creating an indicator of the fraction of fields that are connected to field $f$ and that are already developed by $s$.\""
   ]
  },
  {
   "cell_type": "code",
   "execution_count": null,
   "metadata": {},
   "outputs": [],
   "source": [
    "s = set()\n",
    "for sf in x:\n",
    "    s.add(sf[0])"
   ]
  },
  {
   "cell_type": "markdown",
   "metadata": {},
   "source": [
    "*evaluating transitions to a developed state*"
   ]
  },
  {
   "cell_type": "code",
   "execution_count": null,
   "metadata": {},
   "outputs": [],
   "source": [
    "Ud = {sf: 1 for sf in rca if rca[sf] >= 1 and sf[1] in of}"
   ]
  },
  {
   "cell_type": "markdown",
   "metadata": {},
   "source": [
    "*evaluating the transition from an inactive to an active state*"
   ]
  },
  {
   "cell_type": "code",
   "execution_count": null,
   "metadata": {},
   "outputs": [],
   "source": [
    "Ua = {sf: 1 for sf in rca if rca[sf] >= 0 and sf[1] in of}"
   ]
  },
  {
   "cell_type": "markdown",
   "metadata": {},
   "source": [
    "The density function"
   ]
  },
  {
   "cell_type": "code",
   "execution_count": null,
   "metadata": {},
   "outputs": [],
   "source": [
    "def Omega(U):\n",
    "    omega = dict()\n",
    "    for idx in range(len(of)):\n",
    "        print((idx+1)/len(of))\n",
    "        f = of[idx]\n",
    "        norm = sum(k[idx, idx2] for idx2 in range(len(of)))\n",
    "        \n",
    "        for p in s:    \n",
    "            if (p,f) in U:\n",
    "                continue\n",
    "            \n",
    "            if p not in omega:\n",
    "                omega[p] = list()\n",
    "                \n",
    "            num = sum(k[idx, idx2] for idx2 in range(len(of)) if (p,of[idx2]) in U)\n",
    "            div = np.round(num/norm, 5)\n",
    "            \n",
    "            if div > 0.0:           \n",
    "                omega[p].append((div, idx))\n",
    "    \n",
    "    return omega"
   ]
  },
  {
   "cell_type": "markdown",
   "metadata": {},
   "source": [
    "### Prediction\n",
    "\n",
    "\"Finally, to predict a transition of entity in field fbetween a pair of states (i.e. from inactive to active), we look at all fields that are in the initial state (i.e. inactive) and sort them by density ($\\omega$sf).\""
   ]
  },
  {
   "cell_type": "code",
   "execution_count": null,
   "metadata": {},
   "outputs": [],
   "source": [
    "o = Omega(Ua)"
   ]
  },
  {
   "cell_type": "markdown",
   "metadata": {},
   "source": [
    "### Correlation\n",
    "\n",
    "Correlation analysis between the average knowledge density aggregated at the state/municipal level and a selection of development indicators"
   ]
  },
  {
   "cell_type": "code",
   "execution_count": null,
   "metadata": {},
   "outputs": [],
   "source": []
  }
 ],
 "metadata": {
  "kernelspec": {
   "display_name": "Python 3",
   "language": "python",
   "name": "python3"
  },
  "language_info": {
   "codemirror_mode": {
    "name": "ipython",
    "version": 3
   },
   "file_extension": ".py",
   "mimetype": "text/x-python",
   "name": "python",
   "nbconvert_exporter": "python",
   "pygments_lexer": "ipython3",
   "version": "3.8.1"
  }
 },
 "nbformat": 4,
 "nbformat_minor": 4
}
