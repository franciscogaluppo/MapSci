{
 "cells": [
  {
   "cell_type": "markdown",
   "metadata": {},
   "source": [
    "# Knowledge density\n",
    "\n",
    "We then predict the probability that individual, organization, or country, $s$ will increase its level of development in field $f$ by creating an indicator of the fraction of fields that are connected to field $f$ and that are already developed by $s$."
   ]
  },
  {
   "cell_type": "code",
   "execution_count": 1,
   "metadata": {},
   "outputs": [],
   "source": [
    "import sys\n",
    "sys.path.append(\"../\")\n",
    "from lib.rs import research_space"
   ]
  },
  {
   "cell_type": "code",
   "execution_count": 2,
   "metadata": {},
   "outputs": [],
   "source": [
    "key = \"sjr\"\n",
    "rs = research_space(key)\n",
    "rs.load(2011)\n",
    "rs.set_institution(\"../../dataset/lattes/pesquisadores.csv\", sep=\";sep;\")"
   ]
  },
  {
   "cell_type": "code",
   "execution_count": 3,
   "metadata": {},
   "outputs": [],
   "source": [
    "rs.advantages()\n",
    "rs.set_indicators()"
   ]
  },
  {
   "cell_type": "markdown",
   "metadata": {},
   "source": [
    "### Prediction\n",
    "\n",
    "Finally, to predict a transition of entity in field fbetween a pair of states (i.e. from inactive to active), we look at all fields that are in the initial state (i.e. inactive) and sort them by density ($\\omega$sf).\n",
    "\n",
    "*evaluating the transition from an inactive to an active state*"
   ]
  },
  {
   "cell_type": "code",
   "execution_count": 7,
   "metadata": {},
   "outputs": [
    {
     "data": {
      "text/plain": [
       "[(0.32347, 'museology'),\n",
       " (0.30288, 'logic'),\n",
       " (0.30098, 'theoretical computer science'),\n",
       " (0.29712, 'signal processing'),\n",
       " (0.27709, 'human-computer interaction'),\n",
       " (0.25527, 'computer graphics and computer-aided design'),\n",
       " (0.22943, 'media technology'),\n",
       " (0.19965, 'control and systems engineering'),\n",
       " (0.18579, 'information systems and management'),\n",
       " (0.17672, 'nature and landscape conservation')]"
      ]
     },
     "execution_count": 7,
     "metadata": {},
     "output_type": "execute_result"
    }
   ],
   "source": [
    "# Laender\n",
    "rs.predict(9089204821424223, 'scientist', 'inactive-active')[:10]"
   ]
  },
  {
   "cell_type": "code",
   "execution_count": 8,
   "metadata": {},
   "outputs": [
    {
     "data": {
      "text/plain": [
       "[(0.09604, 'media technology'),\n",
       " (0.08851, 'information systems'),\n",
       " (0.07919, 'theoretical computer science'),\n",
       " (0.07389, 'human-computer interaction'),\n",
       " (0.0667, 'computer science (miscellaneous)'),\n",
       " (0.0663, 'signal processing'),\n",
       " (0.06499, 'logic'),\n",
       " (0.06089, 'computer graphics and computer-aided design'),\n",
       " (0.05979, 'computer vision and pattern recognition'),\n",
       " (0.05901, 'artificial intelligence')]"
      ]
     },
     "execution_count": 8,
     "metadata": {},
     "output_type": "execute_result"
    }
   ],
   "source": [
    "# Ana\n",
    "rs.predict(2408991231058279, 'scientist', 'inactive-active')[:10]"
   ]
  },
  {
   "cell_type": "markdown",
   "metadata": {},
   "source": [
    "*evaluating the transition from an nascent to an developed state*"
   ]
  },
  {
   "cell_type": "code",
   "execution_count": 4,
   "metadata": {},
   "outputs": [
    {
     "data": {
      "text/plain": [
       "[(0.59663, 'speech and hearing'),\n",
       " (0.58969, 'advanced and specialized nursing'),\n",
       " (0.57981, 'anatomy'),\n",
       " (0.56242, 'developmental neuroscience'),\n",
       " (0.55264, 'orthodontics'),\n",
       " (0.54653, 'colloid and surface chemistry'),\n",
       " (0.54627, 'anesthesiology and pain medicine'),\n",
       " (0.54584, 'urology'),\n",
       " (0.50652, 'medical and surgical nursing'),\n",
       " (0.49899, 'anthropology')]"
      ]
     },
     "execution_count": 4,
     "metadata": {},
     "output_type": "execute_result"
    }
   ],
   "source": [
    "# UFMG\n",
    "rs.predict('universidade federal de minas gerais', 'institution', 'nascent-developed')[:10]"
   ]
  },
  {
   "cell_type": "markdown",
   "metadata": {},
   "source": [
    "*evaluating the transition from an intermediate to an developed state*"
   ]
  },
  {
   "cell_type": "code",
   "execution_count": 6,
   "metadata": {},
   "outputs": [
    {
     "data": {
      "text/plain": [
       "[(0.77019, 'family practice'),\n",
       " (0.64315, 'optometry'),\n",
       " (0.62049, 'endocrinology'),\n",
       " (0.61979, 'histology'),\n",
       " (0.6148, 'hematology'),\n",
       " (0.60292, 'transplantation'),\n",
       " (0.56512, 'behavioral neuroscience'),\n",
       " (0.56089, 'classics'),\n",
       " (0.55908, 'cardiology and cardiovascular medicine'),\n",
       " (0.55858, 'cell biology')]"
      ]
     },
     "execution_count": 6,
     "metadata": {},
     "output_type": "execute_result"
    }
   ],
   "source": [
    "# Marcos Lisboa\n",
    "rs.predict('universidade federal de minas gerais', 'institution', 'intermediate-developed')[:10]"
   ]
  },
  {
   "cell_type": "markdown",
   "metadata": {},
   "source": [
    "### Accuracy"
   ]
  },
  {
   "cell_type": "code",
   "execution_count": null,
   "metadata": {},
   "outputs": [],
   "source": []
  }
 ],
 "metadata": {
  "kernelspec": {
   "display_name": "Python 3",
   "language": "python",
   "name": "python3"
  },
  "language_info": {
   "codemirror_mode": {
    "name": "ipython",
    "version": 3
   },
   "file_extension": ".py",
   "mimetype": "text/x-python",
   "name": "python",
   "nbconvert_exporter": "python",
   "pygments_lexer": "ipython3",
   "version": "3.8.1"
  }
 },
 "nbformat": 4,
 "nbformat_minor": 4
}
