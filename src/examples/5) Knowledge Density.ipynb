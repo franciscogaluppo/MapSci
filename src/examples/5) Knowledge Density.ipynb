{
 "cells": [
  {
   "cell_type": "markdown",
   "metadata": {},
   "source": [
    "# Knowledge density\n",
    "\n",
    "We then predict the probability that individual, organization, or country, $s$ will increase its level of development in field $f$ by creating an indicator of the fraction of fields that are connected to field $f$ and that are already developed by $s$."
   ]
  },
  {
   "cell_type": "code",
   "execution_count": 1,
   "metadata": {},
   "outputs": [],
   "source": [
    "import sys\n",
    "sys.path.append(\"../\")\n",
    "from lib.rs import research_space"
   ]
  },
  {
   "cell_type": "code",
   "execution_count": 2,
   "metadata": {},
   "outputs": [],
   "source": [
    "import matplotlib.pyplot as plt\n",
    "from sklearn.metrics import roc_auc_score"
   ]
  },
  {
   "cell_type": "markdown",
   "metadata": {},
   "source": [
    "We will compare our predictions based on data before 2011 to the true transitions that occured before 2020. So we need to load both:"
   ]
  },
  {
   "cell_type": "code",
   "execution_count": 3,
   "metadata": {},
   "outputs": [],
   "source": [
    "key = \"sjr\""
   ]
  },
  {
   "cell_type": "code",
   "execution_count": 4,
   "metadata": {},
   "outputs": [],
   "source": [
    "rs_2011 = research_space(key)\n",
    "rs_2011.load(2011)\n",
    "rs_2011.set_institution(\"../../dataset/lattes/pesquisadores.csv\", sep=\";sep;\")\n",
    "rs_2011.advantages()\n",
    "rs_2011.set_indicators()"
   ]
  },
  {
   "cell_type": "code",
   "execution_count": 5,
   "metadata": {},
   "outputs": [],
   "source": [
    "rs_2020 = research_space(key)\n",
    "rs_2020.load(2020)\n",
    "rs_2020.set_institution(\"../../dataset/lattes/pesquisadores.csv\", sep=\";sep;\")\n",
    "rs_2020.advantages()\n",
    "rs_2020.set_indicators()"
   ]
  },
  {
   "cell_type": "markdown",
   "metadata": {},
   "source": [
    "### Prediction\n",
    "\n",
    "Finally, to predict a transition of entity in field f between a pair of states (i.e. from inactive to active), we look at all fields that are in the initial state (i.e. inactive) and sort them by density ($\\omega_{sf}$).\n",
    "\n",
    "*evaluating the transition from an inactive to an active state*"
   ]
  },
  {
   "cell_type": "code",
   "execution_count": 6,
   "metadata": {},
   "outputs": [
    {
     "data": {
      "text/plain": [
       "[(0.32347, 'museology'),\n",
       " (0.30288, 'logic'),\n",
       " (0.30098, 'theoretical computer science'),\n",
       " (0.29712, 'signal processing'),\n",
       " (0.27709, 'human-computer interaction'),\n",
       " (0.25527, 'computer graphics and computer-aided design'),\n",
       " (0.22943, 'media technology'),\n",
       " (0.19965, 'control and systems engineering'),\n",
       " (0.18579, 'information systems and management'),\n",
       " (0.17672, 'nature and landscape conservation')]"
      ]
     },
     "execution_count": 6,
     "metadata": {},
     "output_type": "execute_result"
    }
   ],
   "source": [
    "# Laender\n",
    "rs_2011.predict(9089204821424223, 'scientist', 'inactive-active')[:10]"
   ]
  },
  {
   "cell_type": "code",
   "execution_count": 7,
   "metadata": {},
   "outputs": [
    {
     "data": {
      "text/plain": [
       "[(0.09604, 'media technology'),\n",
       " (0.08851, 'information systems'),\n",
       " (0.07919, 'theoretical computer science'),\n",
       " (0.07389, 'human-computer interaction'),\n",
       " (0.0667, 'computer science (miscellaneous)'),\n",
       " (0.0663, 'signal processing'),\n",
       " (0.06499, 'logic'),\n",
       " (0.06089, 'computer graphics and computer-aided design'),\n",
       " (0.05979, 'computer vision and pattern recognition'),\n",
       " (0.05901, 'artificial intelligence')]"
      ]
     },
     "execution_count": 7,
     "metadata": {},
     "output_type": "execute_result"
    }
   ],
   "source": [
    "# Ana\n",
    "rs_2011.predict(2408991231058279, 'scientist', 'inactive-active')[:10]"
   ]
  },
  {
   "cell_type": "markdown",
   "metadata": {},
   "source": [
    "*evaluating the transition from an nascent to an developed state*"
   ]
  },
  {
   "cell_type": "code",
   "execution_count": 44,
   "metadata": {},
   "outputs": [
    {
     "data": {
      "text/plain": [
       "[(0.59663, 'speech and hearing'),\n",
       " (0.58969, 'advanced and specialized nursing'),\n",
       " (0.57981, 'anatomy'),\n",
       " (0.56242, 'developmental neuroscience'),\n",
       " (0.55264, 'orthodontics'),\n",
       " (0.54653, 'colloid and surface chemistry'),\n",
       " (0.54627, 'anesthesiology and pain medicine'),\n",
       " (0.54584, 'urology'),\n",
       " (0.50652, 'medical and surgical nursing'),\n",
       " (0.49899, 'anthropology')]"
      ]
     },
     "execution_count": 44,
     "metadata": {},
     "output_type": "execute_result"
    }
   ],
   "source": [
    "# UFMG\n",
    "rs_2011.predict('universidade federal de minas gerais', 'institution', 'nascent-developed')[:10]"
   ]
  },
  {
   "cell_type": "markdown",
   "metadata": {},
   "source": [
    "*evaluating the transition from an intermediate to an developed state*"
   ]
  },
  {
   "cell_type": "code",
   "execution_count": 9,
   "metadata": {},
   "outputs": [
    {
     "data": {
      "text/plain": [
       "[(0.77019, 'family practice'),\n",
       " (0.64315, 'optometry'),\n",
       " (0.62049, 'endocrinology'),\n",
       " (0.61979, 'histology'),\n",
       " (0.6148, 'hematology'),\n",
       " (0.60292, 'transplantation'),\n",
       " (0.56512, 'behavioral neuroscience'),\n",
       " (0.56089, 'classics'),\n",
       " (0.55908, 'cardiology and cardiovascular medicine'),\n",
       " (0.55858, 'cell biology')]"
      ]
     },
     "execution_count": 9,
     "metadata": {},
     "output_type": "execute_result"
    }
   ],
   "source": [
    "# UFMG\n",
    "rs_2011.predict('universidade federal de minas gerais', 'institution', 'intermediate-developed')[:10]"
   ]
  },
  {
   "cell_type": "markdown",
   "metadata": {},
   "source": [
    "### Accuracy\n",
    "\n",
    "To measure the accuracy of our predictions we use the area under the Response Operator Characteristics curve (ROC curve). The ROC curve plots the true positive rate of a predictive algorithm (in  the  y-axis) against its false positive rate (x-axis). A random prediction, having the same rate of true positives and false positives, produces  a  ROC curve with an area of 0.5, so values between 0.5 and 1 represent the accuracy of the predictive method."
   ]
  },
  {
   "cell_type": "code",
   "execution_count": 41,
   "metadata": {},
   "outputs": [],
   "source": [
    "def accuracy(level, transition):\n",
    "    auc = list()\n",
    "    dic = {x: rs_2020.fields.index(x) for x in rs_2011.fields}\n",
    "    rng = [rs_2011.scientists, set(x[0] for x in rs_2011.rca[1]), set(x[0] for x in rs_2011.rca[2])]\n",
    "    u = 0 if transition == 'inactive-active' else 1\n",
    "    \n",
    "    if level == 'scientist':\n",
    "        lev = 0\n",
    "    elif level == 'institution':\n",
    "        lev = 1\n",
    "    elif level == 'state':\n",
    "        lev = 2\n",
    "\n",
    "    for s in rng[lev]:\n",
    "        pred = rs_2011.predict(s, level, transition)        \n",
    "        true = [1 if dic[x[1]] in rs_2020._U[lev][u][s] else 0 for x in pred]\n",
    "        prob = [x[0] for x in pred]\n",
    "\n",
    "        if sum(true) == 0 or sum(true) == len(true):\n",
    "            continue\n",
    "\n",
    "        auc.append(roc_auc_score(true, prob))\n",
    "        \n",
    "    fp = dict(marker='o', markersize=5, linestyle='none', alpha=0.01)\n",
    "    plt.boxplot(auc, flierprops=fp)\n",
    "    plt.title(\"{}: {}\".format(level, transition))\n",
    "    plt.show()\n",
    "    \n",
    "    return sum(1 for x in auc if x < 0.5) / len(auc)"
   ]
  },
  {
   "cell_type": "code",
   "execution_count": 11,
   "metadata": {},
   "outputs": [
    {
     "data": {
      "image/png": "[encoded data removed]",
      "text/plain": [
       "<Figure size 432x288 with 1 Axes>"
      ]
     },
     "metadata": {
      "needs_background": "light"
     },
     "output_type": "display_data"
    },
    {
     "data": {
      "text/plain": [
       "[0.023052365355114224]"
      ]
     },
     "execution_count": 11,
     "metadata": {},
     "output_type": "execute_result"
    }
   ],
   "source": [
    "accuracy('scientist', 'inactive-active')"
   ]
  },
  {
   "cell_type": "code",
   "execution_count": 23,
   "metadata": {},
   "outputs": [
    {
     "data": {
      "image/png": "[encoded data removed]",
      "text/plain": [
       "<Figure size 432x288 with 1 Axes>"
      ]
     },
     "metadata": {
      "needs_background": "light"
     },
     "output_type": "display_data"
    },
    {
     "data": {
      "text/plain": [
       "0.03742295274434987"
      ]
     },
     "execution_count": 23,
     "metadata": {},
     "output_type": "execute_result"
    }
   ],
   "source": [
    "accuracy('institution', 'inactive-active')"
   ]
  },
  {
   "cell_type": "code",
   "execution_count": 22,
   "metadata": {},
   "outputs": [
    {
     "data": {
      "image/png": "[encoded data removed]",
      "text/plain": [
       "<Figure size 432x288 with 1 Axes>"
      ]
     },
     "metadata": {
      "needs_background": "light"
     },
     "output_type": "display_data"
    },
    {
     "data": {
      "text/plain": [
       "0.2692307692307692"
      ]
     },
     "execution_count": 22,
     "metadata": {},
     "output_type": "execute_result"
    }
   ],
   "source": [
    "accuracy('state', 'inactive-active')"
   ]
  },
  {
   "cell_type": "code",
   "execution_count": 42,
   "metadata": {},
   "outputs": [
    {
     "data": {
      "image/png": "[encoded data removed]",
      "text/plain": [
       "<Figure size 432x288 with 1 Axes>"
      ]
     },
     "metadata": {
      "needs_background": "light"
     },
     "output_type": "display_data"
    },
    {
     "data": {
      "text/plain": [
       "0.26480836236933797"
      ]
     },
     "execution_count": 42,
     "metadata": {},
     "output_type": "execute_result"
    }
   ],
   "source": [
    "accuracy('institution', 'nascent-developed')"
   ]
  },
  {
   "cell_type": "code",
   "execution_count": 26,
   "metadata": {},
   "outputs": [
    {
     "data": {
      "image/png": "[encoded data removed]",
      "text/plain": [
       "<Figure size 432x288 with 1 Axes>"
      ]
     },
     "metadata": {
      "needs_background": "light"
     },
     "output_type": "display_data"
    },
    {
     "data": {
      "text/plain": [
       "0.2857142857142857"
      ]
     },
     "execution_count": 26,
     "metadata": {},
     "output_type": "execute_result"
    }
   ],
   "source": [
    "accuracy('state', 'nascent-developed')"
   ]
  },
  {
   "cell_type": "code",
   "execution_count": 43,
   "metadata": {},
   "outputs": [
    {
     "data": {
      "image/png": "[encoded data removed]",
      "text/plain": [
       "<Figure size 432x288 with 1 Axes>"
      ]
     },
     "metadata": {
      "needs_background": "light"
     },
     "output_type": "display_data"
    },
    {
     "data": {
      "text/plain": [
       "0.28205128205128205"
      ]
     },
     "execution_count": 43,
     "metadata": {},
     "output_type": "execute_result"
    }
   ],
   "source": [
    "accuracy('institution', 'intermediate-developed')"
   ]
  },
  {
   "cell_type": "code",
   "execution_count": 27,
   "metadata": {},
   "outputs": [
    {
     "data": {
      "image/png": "[encoded data removed]",
      "text/plain": [
       "<Figure size 432x288 with 1 Axes>"
      ]
     },
     "metadata": {
      "needs_background": "light"
     },
     "output_type": "display_data"
    },
    {
     "data": {
      "text/plain": [
       "0.18518518518518517"
      ]
     },
     "execution_count": 27,
     "metadata": {},
     "output_type": "execute_result"
    }
   ],
   "source": [
    "accuracy('state', 'intermediate-developed')"
   ]
  }
 ],
 "metadata": {
  "kernelspec": {
   "display_name": "Python 3",
   "language": "python",
   "name": "python3"
  },
  "language_info": {
   "codemirror_mode": {
    "name": "ipython",
    "version": 3
   },
   "file_extension": ".py",
   "mimetype": "text/x-python",
   "name": "python",
   "nbconvert_exporter": "python",
   "pygments_lexer": "ipython3",
   "version": "3.8.1"
  }
 },
 "nbformat": 4,
 "nbformat_minor": 4
}
