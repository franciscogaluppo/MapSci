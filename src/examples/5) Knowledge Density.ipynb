{
 "cells": [
  {
   "cell_type": "markdown",
   "metadata": {},
   "source": [
    "# Knowledge density\n",
    "\n",
    "We then predict the probability that individual, organization, or country, $s$ will increase its level of development in field $f$ by creating an indicator of the fraction of fields that are connected to field $f$ and that are already developed by $s$."
   ]
  },
  {
   "cell_type": "code",
   "execution_count": 1,
   "metadata": {},
   "outputs": [],
   "source": [
    "import sys\n",
    "sys.path.append(\"../\")\n",
    "from lib.rs import research_space"
   ]
  },
  {
   "cell_type": "code",
   "execution_count": 2,
   "metadata": {},
   "outputs": [],
   "source": [
    "key = \"sjr\"\n",
    "rs = research_space(key)\n",
    "rs.load(2011)\n",
    "rs.set_institution(\"../../dataset/lattes/pesquisadores.csv\", sep=\";sep;\")"
   ]
  },
  {
   "cell_type": "code",
   "execution_count": 3,
   "metadata": {},
   "outputs": [],
   "source": [
    "rs.advantages()\n",
    "rs.set_indicators()"
   ]
  },
  {
   "cell_type": "markdown",
   "metadata": {},
   "source": [
    "### Prediction\n",
    "\n",
    "Finally, to predict a transition of entity in field fbetween a pair of states (i.e. from inactive to active), we look at all fields that are in the initial state (i.e. inactive) and sort them by density ($\\omega$sf).\n",
    "\n",
    "*evaluating the transition from an inactive to an active state*"
   ]
  },
  {
   "cell_type": "code",
   "execution_count": 4,
   "metadata": {},
   "outputs": [
    {
     "data": {
      "text/plain": [
       "[(0.32347, 'museology'),\n",
       " (0.30288, 'logic'),\n",
       " (0.30098, 'theoretical computer science'),\n",
       " (0.29712, 'signal processing'),\n",
       " (0.27709, 'human-computer interaction'),\n",
       " (0.25527, 'computer graphics and computer-aided design'),\n",
       " (0.22943, 'media technology'),\n",
       " (0.19965, 'control and systems engineering'),\n",
       " (0.18579, 'information systems and management'),\n",
       " (0.17672, 'nature and landscape conservation')]"
      ]
     },
     "execution_count": 4,
     "metadata": {},
     "output_type": "execute_result"
    }
   ],
   "source": [
    "# Laender\n",
    "rs.predict(9089204821424223, 'scientist', 'inactive-active')[:10]"
   ]
  },
  {
   "cell_type": "code",
   "execution_count": 5,
   "metadata": {},
   "outputs": [
    {
     "data": {
      "text/plain": [
       "[(0.09604, 'media technology'),\n",
       " (0.08851, 'information systems'),\n",
       " (0.07919, 'theoretical computer science'),\n",
       " (0.07389, 'human-computer interaction'),\n",
       " (0.0667, 'computer science (miscellaneous)'),\n",
       " (0.0663, 'signal processing'),\n",
       " (0.06499, 'logic'),\n",
       " (0.06089, 'computer graphics and computer-aided design'),\n",
       " (0.05979, 'computer vision and pattern recognition'),\n",
       " (0.05901, 'artificial intelligence')]"
      ]
     },
     "execution_count": 5,
     "metadata": {},
     "output_type": "execute_result"
    }
   ],
   "source": [
    "# Ana\n",
    "rs.predict(2408991231058279, 'scientist', 'inactive-active')[:10]"
   ]
  },
  {
   "cell_type": "code",
   "execution_count": 11,
   "metadata": {},
   "outputs": [
    {
     "data": {
      "text/plain": [
       "[(0.10867, 'religious studies'),\n",
       " (0.09576, 'cultural studies'),\n",
       " (0.09082, 'political science and international relations'),\n",
       " (0.08657, 'gender studies'),\n",
       " (0.05983, 'anthropology'),\n",
       " (0.0576, 'demography'),\n",
       " (0.05637, 'literature and literary theory'),\n",
       " (0.05571, 'history and philosophy of science'),\n",
       " (0.05337, 'geography, planning and development'),\n",
       " (0.05285, 'economics, econometrics and finance (miscellaneous)')]"
      ]
     },
     "execution_count": 11,
     "metadata": {},
     "output_type": "execute_result"
    }
   ],
   "source": [
    "# Heloisa Starling\n",
    "rs.predict(3321652451642202, 'scientist', 'inactive-active')[:10]"
   ]
  },
  {
   "cell_type": "code",
   "execution_count": 10,
   "metadata": {},
   "outputs": [
    {
     "data": {
      "text/plain": [
       "[(0.10225, 'political science and international relations'),\n",
       " (0.08792, 'finance'),\n",
       " (0.05949, 'development'),\n",
       " (0.052, 'forestry'),\n",
       " (0.04907, 'accounting'),\n",
       " (0.0461, 'social sciences (miscellaneous)'),\n",
       " (0.04417, 'business, management and accounting (miscellaneous)'),\n",
       " (0.04264, 'sociology and political science'),\n",
       " (0.03148, 'public administration'),\n",
       " (0.03034, 'business and international management')]"
      ]
     },
     "execution_count": 10,
     "metadata": {},
     "output_type": "execute_result"
    }
   ],
   "source": [
    "# Marcos Lisboa\n",
    "rs.predict(1399818650600192, 'scientist', 'inactive-active')[:10]"
   ]
  },
  {
   "cell_type": "markdown",
   "metadata": {},
   "source": [
    "### Accuracy"
   ]
  },
  {
   "cell_type": "code",
   "execution_count": null,
   "metadata": {},
   "outputs": [],
   "source": []
  }
 ],
 "metadata": {
  "kernelspec": {
   "display_name": "Python 3",
   "language": "python",
   "name": "python3"
  },
  "language_info": {
   "codemirror_mode": {
    "name": "ipython",
    "version": 3
   },
   "file_extension": ".py",
   "mimetype": "text/x-python",
   "name": "python",
   "nbconvert_exporter": "python",
   "pygments_lexer": "ipython3",
   "version": "3.8.1"
  }
 },
 "nbformat": 4,
 "nbformat_minor": 4
}
