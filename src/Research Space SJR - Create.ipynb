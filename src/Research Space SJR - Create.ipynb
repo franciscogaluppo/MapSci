{
 "cells": [
  {
   "cell_type": "markdown",
   "metadata": {},
   "source": [
    "# The  Research  Space\n",
    "\n",
    "\"Here we use a large dataset of scholarly publications disambiguated at the individual level to create a map of science — or research  space — where links connect pairs of fields based on the probability that an individual has published in both of them.\"\n",
    "[Original Article](https://arxiv.org/ftp/arxiv/papers/1602/1602.08409.pdf)\n",
    "\n",
    "[Artigo suplementar](https://link.springer.com/content/pdf/10.1140/epjds/s13688-019-0210-z.pdf)"
   ]
  },
  {
   "cell_type": "code",
   "execution_count": null,
   "metadata": {},
   "outputs": [],
   "source": [
    "import pandas as pd\n",
    "import numpy as np\n",
    "import re"
   ]
  },
  {
   "cell_type": "markdown",
   "metadata": {},
   "source": [
    "### Our data\n",
    "\n",
    "PRECISO CHECAR O PARSER NOVAMENTE. ALGUNS ANOS APARECERAM COMO 'rint' OU 'onic'. E EM ALGUNS ARTIGOS O NÚMERO DE AUTORES FOI ZERO.\n",
    "\n",
    "Todas as publicações"
   ]
  },
  {
   "cell_type": "code",
   "execution_count": null,
   "metadata": {},
   "outputs": [],
   "source": [
    "articles = pd.read_csv(\"../dataset/lattes_categories.csv\", sep=\";sep;\", engine=\"python\")\n",
    "articles = articles[(articles[\"ano\"] != 'rint') & (articles[\"ano\"] != 'onic')]\n",
    "articles.head()"
   ]
  },
  {
   "cell_type": "markdown",
   "metadata": {},
   "source": [
    "### Research Space\n",
    "\n",
    "\" $\\phi_{ff'}(T)$ is  the  adjacency  matrix  representing  the  research  space expressed  by  the  career trajectory of scientists in our dataset observed up to time T. \""
   ]
  },
  {
   "cell_type": "markdown",
   "metadata": {},
   "source": [
    "Get all the categories from an article"
   ]
  },
  {
   "cell_type": "code",
   "execution_count": null,
   "metadata": {},
   "outputs": [],
   "source": [
    "def catg(s):\n",
    "    return [re.sub(r\"\\s?\\(Q[1-9]\\)\", \"\", x).strip().lower() for x in s.split(\";\")]"
   ]
  },
  {
   "cell_type": "markdown",
   "metadata": {},
   "source": [
    "Create a dict to represent the X matrix"
   ]
  },
  {
   "cell_type": "code",
   "execution_count": null,
   "metadata": {},
   "outputs": [],
   "source": [
    "def X(t):\n",
    "    x = dict()\n",
    "    for _, row in articles.iterrows():\n",
    "        if int(row[\"ano\"]) < t:\n",
    "            fs = catg(row[\"catg\"])\n",
    "            nf = len(fs)\n",
    "            for field in fs:\n",
    "                \n",
    "                if row[\"num\"] == 0:\n",
    "                    continue\n",
    "                \n",
    "                if (row[\"pesq\"], field) in x:\n",
    "                    x[(row[\"pesq\"], field)] += 1/(nf * row[\"num\"])\n",
    "                else:\n",
    "                    x[(row[\"pesq\"], field)] = 1/(nf * row[\"num\"])\n",
    "    \n",
    "    print(\"X done\")\n",
    "    return x"
   ]
  },
  {
   "cell_type": "markdown",
   "metadata": {},
   "source": [
    "Create a dict to represent the P matrix"
   ]
  },
  {
   "cell_type": "code",
   "execution_count": null,
   "metadata": {},
   "outputs": [],
   "source": [
    "def P(t):\n",
    "    x = X(t)\n",
    "    p = dict()\n",
    "    \n",
    "    for sf in x:\n",
    "        if x[sf] > 0.1:\n",
    "            p[sf] = 1\n",
    "            \n",
    "    print(\"P done\")\n",
    "    return [p, x]"
   ]
  },
  {
   "cell_type": "markdown",
   "metadata": {},
   "source": [
    "Create the M matrix"
   ]
  },
  {
   "cell_type": "code",
   "execution_count": null,
   "metadata": {},
   "outputs": [],
   "source": [
    "def M(t):\n",
    "    p, x = P(t)\n",
    "    s = set()\n",
    "    f = set()\n",
    "    \n",
    "    for sf in p:\n",
    "        s.add(sf[0])\n",
    "        f.add(sf[1])\n",
    "        \n",
    "    of = sorted(list(f))\n",
    "    indices = {u: v for v, u in enumerate(of)}\n",
    "    n = len(of)\n",
    "    m = np.zeros((n,n))\n",
    "    \n",
    "    for i in range(len(of)):\n",
    "        for j in range(i+1, len(of)):\n",
    "            for k in s:\n",
    "                if (k,of[i]) in p and (k,of[j]) in p:\n",
    "                    m[i,j] += 1\n",
    "                    m[j,i] += 1\n",
    "                    \n",
    "    print(\"M done\")\n",
    "    return [m, p, of, x]"
   ]
  },
  {
   "cell_type": "markdown",
   "metadata": {},
   "source": [
    "Create the phi matrix"
   ]
  },
  {
   "cell_type": "code",
   "execution_count": null,
   "metadata": {},
   "outputs": [],
   "source": [
    "def phi(t):\n",
    "    m, p, of, x = M(t)\n",
    "    indices = dict()\n",
    "    sums = np.zeros(len(m))\n",
    "    \n",
    "    for sf in p:\n",
    "        if sf[1] not in indices:\n",
    "            indices[sf[1]] = of.index(sf[1])\n",
    "        sums[indices[sf[1]]] += 1\n",
    "\n",
    "    phi = m.copy()\n",
    "    for i in range(len(m)):\n",
    "        phi[:,i] /= sums[i]\n",
    "    \n",
    "    print(\"phi done\")\n",
    "    return [phi, of, x]"
   ]
  },
  {
   "cell_type": "markdown",
   "metadata": {},
   "source": [
    "Salvar só pra ter certeza né. As etapas do X e do M são bastante demoradas."
   ]
  },
  {
   "cell_type": "code",
   "execution_count": null,
   "metadata": {},
   "outputs": [],
   "source": [
    "k, of, x = phi(2011)\n",
    "np.save(\"../dataset/phi_matrix_2011.npy\", k)\n",
    "np.save(\"../dataset/x_dict_2011.npy\", x)\n",
    "\n",
    "with open(\"../dataset/of_2011.txt\", \"w\") as f:\n",
    "    for item in of:\n",
    "        f.write(\"{}\\n\".format(item))"
   ]
  }
 ],
 "metadata": {
  "kernelspec": {
   "display_name": "Python 3",
   "language": "python",
   "name": "python3"
  },
  "language_info": {
   "codemirror_mode": {
    "name": "ipython",
    "version": 3
   },
   "file_extension": ".py",
   "mimetype": "text/x-python",
   "name": "python",
   "nbconvert_exporter": "python",
   "pygments_lexer": "ipython3",
   "version": "3.8.1"
  }
 },
 "nbformat": 4,
 "nbformat_minor": 4
}
