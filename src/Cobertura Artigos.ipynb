{
 "cells": [
  {
   "cell_type": "markdown",
   "metadata": {},
   "source": [
    "# Cobertura dos artigos\n",
    "\n",
    "Checa se os dados do SCImagoJR cobrem todos os periódicos e as confereências dos dados dos perfis da plataforma Lattes."
   ]
  },
  {
   "cell_type": "code",
   "execution_count": 1,
   "metadata": {},
   "outputs": [],
   "source": [
    "import difflib\n",
    "import unidecode\n",
    "import numpy as np\n",
    "import pandas as pd\n",
    "import matplotlib.pyplot as plt\n",
    "import re"
   ]
  },
  {
   "cell_type": "markdown",
   "metadata": {},
   "source": [
    "Dados do SCImagoJR"
   ]
  },
  {
   "cell_type": "code",
   "execution_count": 2,
   "metadata": {},
   "outputs": [
    {
     "data": {
      "text/html": [
       "<div>\n",
       "<style scoped>\n",
       "    .dataframe tbody tr th:only-of-type {\n",
       "        vertical-align: middle;\n",
       "    }\n",
       "\n",
       "    .dataframe tbody tr th {\n",
       "        vertical-align: top;\n",
       "    }\n",
       "\n",
       "    .dataframe thead th {\n",
       "        text-align: right;\n",
       "    }\n",
       "</style>\n",
       "<table border=\"1\" class=\"dataframe\">\n",
       "  <thead>\n",
       "    <tr style=\"text-align: right;\">\n",
       "      <th></th>\n",
       "      <th>Sourceid</th>\n",
       "      <th>Title</th>\n",
       "      <th>Type</th>\n",
       "      <th>Country</th>\n",
       "      <th>Categories</th>\n",
       "    </tr>\n",
       "  </thead>\n",
       "  <tbody>\n",
       "    <tr>\n",
       "      <th>0</th>\n",
       "      <td>28773</td>\n",
       "      <td>CA - A Cancer Journal for Clinicians</td>\n",
       "      <td>journal</td>\n",
       "      <td>United States</td>\n",
       "      <td>Hematology (Q1); Oncology (Q1)</td>\n",
       "    </tr>\n",
       "    <tr>\n",
       "      <th>1</th>\n",
       "      <td>19434</td>\n",
       "      <td>MMWR. Recommendations and reports : Morbidity ...</td>\n",
       "      <td>journal</td>\n",
       "      <td>United States</td>\n",
       "      <td>Epidemiology (Q1); Health Information Manageme...</td>\n",
       "    </tr>\n",
       "    <tr>\n",
       "      <th>2</th>\n",
       "      <td>21100812243</td>\n",
       "      <td>Nature Reviews Materials</td>\n",
       "      <td>journal</td>\n",
       "      <td>United Kingdom</td>\n",
       "      <td>Biomaterials (Q1); Electronic, Optical and Mag...</td>\n",
       "    </tr>\n",
       "    <tr>\n",
       "      <th>3</th>\n",
       "      <td>29431</td>\n",
       "      <td>Quarterly Journal of Economics</td>\n",
       "      <td>journal</td>\n",
       "      <td>United Kingdom</td>\n",
       "      <td>Economics and Econometrics (Q1)</td>\n",
       "    </tr>\n",
       "    <tr>\n",
       "      <th>4</th>\n",
       "      <td>18991</td>\n",
       "      <td>Nature Reviews Genetics</td>\n",
       "      <td>journal</td>\n",
       "      <td>United Kingdom</td>\n",
       "      <td>Genetics (Q1); Genetics (clinical) (Q1); Molec...</td>\n",
       "    </tr>\n",
       "    <tr>\n",
       "      <th>5</th>\n",
       "      <td>20315</td>\n",
       "      <td>Nature Reviews Molecular Cell Biology</td>\n",
       "      <td>journal</td>\n",
       "      <td>United Kingdom</td>\n",
       "      <td>Cell Biology (Q1); Molecular Biology (Q1)</td>\n",
       "    </tr>\n",
       "    <tr>\n",
       "      <th>6</th>\n",
       "      <td>12464</td>\n",
       "      <td>Nature Reviews Cancer</td>\n",
       "      <td>journal</td>\n",
       "      <td>United Kingdom</td>\n",
       "      <td>Cancer Research (Q1); Oncology (Q1)</td>\n",
       "    </tr>\n",
       "    <tr>\n",
       "      <th>7</th>\n",
       "      <td>58530</td>\n",
       "      <td>National vital statistics reports : from the C...</td>\n",
       "      <td>journal</td>\n",
       "      <td>United States</td>\n",
       "      <td>Life-span and Life-course Studies (Q1)</td>\n",
       "    </tr>\n",
       "    <tr>\n",
       "      <th>8</th>\n",
       "      <td>21318</td>\n",
       "      <td>Nature Reviews Immunology</td>\n",
       "      <td>journal</td>\n",
       "      <td>United Kingdom</td>\n",
       "      <td>Immunology (Q1); Immunology and Allergy (Q1); ...</td>\n",
       "    </tr>\n",
       "    <tr>\n",
       "      <th>9</th>\n",
       "      <td>18434</td>\n",
       "      <td>Cell</td>\n",
       "      <td>journal</td>\n",
       "      <td>United States</td>\n",
       "      <td>Biochemistry, Genetics and Molecular Biology (...</td>\n",
       "    </tr>\n",
       "  </tbody>\n",
       "</table>\n",
       "</div>"
      ],
      "text/plain": [
       "      Sourceid                                              Title     Type  \\\n",
       "0        28773               CA - A Cancer Journal for Clinicians  journal   \n",
       "1        19434  MMWR. Recommendations and reports : Morbidity ...  journal   \n",
       "2  21100812243                           Nature Reviews Materials  journal   \n",
       "3        29431                     Quarterly Journal of Economics  journal   \n",
       "4        18991                            Nature Reviews Genetics  journal   \n",
       "5        20315              Nature Reviews Molecular Cell Biology  journal   \n",
       "6        12464                              Nature Reviews Cancer  journal   \n",
       "7        58530  National vital statistics reports : from the C...  journal   \n",
       "8        21318                          Nature Reviews Immunology  journal   \n",
       "9        18434                                               Cell  journal   \n",
       "\n",
       "          Country                                         Categories  \n",
       "0   United States                     Hematology (Q1); Oncology (Q1)  \n",
       "1   United States  Epidemiology (Q1); Health Information Manageme...  \n",
       "2  United Kingdom  Biomaterials (Q1); Electronic, Optical and Mag...  \n",
       "3  United Kingdom                    Economics and Econometrics (Q1)  \n",
       "4  United Kingdom  Genetics (Q1); Genetics (clinical) (Q1); Molec...  \n",
       "5  United Kingdom          Cell Biology (Q1); Molecular Biology (Q1)  \n",
       "6  United Kingdom                Cancer Research (Q1); Oncology (Q1)  \n",
       "7   United States             Life-span and Life-course Studies (Q1)  \n",
       "8  United Kingdom  Immunology (Q1); Immunology and Allergy (Q1); ...  \n",
       "9   United States  Biochemistry, Genetics and Molecular Biology (...  "
      ]
     },
     "execution_count": 2,
     "metadata": {},
     "output_type": "execute_result"
    }
   ],
   "source": [
    "sjr = pd.read_csv(\"../dataset/SJR/scimagojr completo.csv\", sep=\";\", header=0)\n",
    "sjr.head(10)"
   ]
  },
  {
   "cell_type": "markdown",
   "metadata": {},
   "source": [
    "Dados da plataforma Lattes"
   ]
  },
  {
   "cell_type": "code",
   "execution_count": 3,
   "metadata": {
    "scrolled": true
   },
   "outputs": [
    {
     "data": {
      "text/plain": [
       "journal_ou_conferencia\n",
       "Plos One                                                                 20889\n",
       "Revista Brasileira de Zootecnia / Brazilian Journal of Animal Science    15068\n",
       "Arquivo Brasileiro de Medicina Veterinária e Zootecnia                   14067\n",
       "Arquivos Brasileiros de Cardiologia                                      12700\n",
       "Ciência Rural (UFSM. Impresso)                                           11376\n",
       "Brazilian Journal of Medical and Biological Research                      9768\n",
       "Journal of Dental Research                                                9476\n",
       "Pesquisa Agropecuária Brasileira                                          9308\n",
       "Ciência Rural                                                             9263\n",
       "Pesquisa Odontológica Brasileira                                          9154\n",
       "Química Nova (Impresso)                                                   8750\n",
       "Arquivos Brasileiros de Cardiologia (Impresso)                            8660\n",
       "Higiene Alimentar                                                         8191\n",
       "Genetics and Molecular Research                                           7732\n",
       "Cadernos de Saúde Pública (ENSP. Impresso)                                7597\n",
       "dtype: int64"
      ]
     },
     "execution_count": 3,
     "metadata": {},
     "output_type": "execute_result"
    }
   ],
   "source": [
    "artigos = pd.read_csv(\"../dataset/lattes/artigos.csv\", sep=\";sep;\", header=0, usecols=[\"journal_ou_conferencia\"], engine='python')\n",
    "artigos = artigos.groupby(\"journal_ou_conferencia\").size().sort_values(ascending=False)\n",
    "artigos.head(15)"
   ]
  },
  {
   "cell_type": "markdown",
   "metadata": {},
   "source": [
    "CCDF do número de publicações em cada periódico, por pessoa nos dados do Lattes, escala log-log"
   ]
  },
  {
   "cell_type": "code",
   "execution_count": 4,
   "metadata": {},
   "outputs": [
    {
     "data": {
      "image/png": "[encoded data removed]",
      "text/plain": [
       "<Figure size 1080x360 with 1 Axes>"
      ]
     },
     "metadata": {
      "needs_background": "light"
     },
     "output_type": "display_data"
    }
   ],
   "source": [
    "vals = artigos.to_numpy()\n",
    "ccdf = 1 - vals.cumsum() / vals.sum()\n",
    "plt.figure(figsize=(15,5))\n",
    "plt.plot(np.sort(vals),ccdf,'o',markersize=1)\n",
    "plt.xscale('log')\n",
    "plt.yscale('log')\n",
    "plt.ylabel('CCDF')\n",
    "plt.xlabel('Publicações')\n",
    "plt.show()"
   ]
  },
  {
   "cell_type": "markdown",
   "metadata": {},
   "source": [
    "## Estudando a cobertura\n",
    "\n",
    "Vamos precisar de duas funções:\n",
    "    \n",
    "    - Uma para tratar as strings\n",
    "    - Outra pra dividir uma string com caracteres marcadores"
   ]
  },
  {
   "cell_type": "code",
   "execution_count": 5,
   "metadata": {},
   "outputs": [],
   "source": [
    "def ops(s):\n",
    "    s = re.sub(r\"\\s?\\(.*\\)\", \"\", s)\n",
    "    s = unidecode.unidecode(s)\n",
    "    s = s.lower()\n",
    "    s = re.sub(\"\\s+\", \" \", s)\n",
    "    s = s.strip()\n",
    "    \n",
    "    return s"
   ]
  },
  {
   "cell_type": "code",
   "execution_count": 6,
   "metadata": {},
   "outputs": [],
   "source": [
    "def splt(s):\n",
    "    chars = [\".\", \";\", \":\", \"/\", \"-\"]\n",
    "    subs = [s]\n",
    "    \n",
    "    for c in chars:\n",
    "        aux = list()\n",
    "        for s in subs:\n",
    "            aux += s.split(c)\n",
    "        subs = aux\n",
    "        \n",
    "    return subs"
   ]
  },
  {
   "cell_type": "markdown",
   "metadata": {},
   "source": [
    "Obtendo o conjunto dos periódicos do sjr e a lista dos do lattes"
   ]
  },
  {
   "cell_type": "code",
   "execution_count": 7,
   "metadata": {},
   "outputs": [],
   "source": [
    "sjr_title = set([ops(x) for string in sjr[\"Title\"].to_list() for x in splt(string)])\n",
    "lattes_title = [ops(x) for x in artigos.index.to_list()]"
   ]
  },
  {
   "cell_type": "markdown",
   "metadata": {},
   "source": [
    "Vemos que os três maiores periódicos dos nossos dados aperecem no sjr (considerando string tratadas e nomes quebrados)"
   ]
  },
  {
   "cell_type": "code",
   "execution_count": 8,
   "metadata": {},
   "outputs": [
    {
     "data": {
      "text/plain": [
       "['plos one']"
      ]
     },
     "execution_count": 8,
     "metadata": {},
     "output_type": "execute_result"
    }
   ],
   "source": [
    "difflib.get_close_matches('plos one', sjr_title, cutoff=0.9)"
   ]
  },
  {
   "cell_type": "code",
   "execution_count": 9,
   "metadata": {},
   "outputs": [
    {
     "data": {
      "text/plain": [
       "['revista brasileira de zootecnia']"
      ]
     },
     "execution_count": 9,
     "metadata": {},
     "output_type": "execute_result"
    }
   ],
   "source": [
    "difflib.get_close_matches('revista brasileira de zootecnia', sjr_title, cutoff=0.9)"
   ]
  },
  {
   "cell_type": "code",
   "execution_count": 10,
   "metadata": {},
   "outputs": [
    {
     "data": {
      "text/plain": [
       "['arquivo brasileiro de medicina veterinaria e zootecnia']"
      ]
     },
     "execution_count": 10,
     "metadata": {},
     "output_type": "execute_result"
    }
   ],
   "source": [
    "difflib.get_close_matches('arquivo brasileiro de medicina veterinaria e zootecnia', sjr_title, cutoff=0.9)"
   ]
  },
  {
   "cell_type": "markdown",
   "metadata": {},
   "source": [
    "Verificando a fração que se encontra no sjr"
   ]
  },
  {
   "cell_type": "code",
   "execution_count": 11,
   "metadata": {},
   "outputs": [
    {
     "name": "stdout",
     "output_type": "stream",
     "text": [
      "55279 0.19292435050884368\n"
     ]
    }
   ],
   "source": [
    "count = 0\n",
    "for title in lattes_title:\n",
    "    strings = splt(title) + [title]\n",
    "    for s in strings:\n",
    "        if s in sjr_title:\n",
    "            count += 1\n",
    "            break\n",
    "\n",
    "print(count, count/len(lattes_title))"
   ]
  },
  {
   "cell_type": "code",
   "execution_count": 12,
   "metadata": {},
   "outputs": [],
   "source": [
    "# count = 0\n",
    "# for title in lattes_title:\n",
    "#     strings = splt(title) + [title]\n",
    "#     for s in strings:\n",
    "#         if len(difflib.get_close_matches(s , sjr_title, cutoff=0.9)) > 0:\n",
    "#             count += 1\n",
    "#             break\n",
    "\n",
    "# print(count, count/len(lattes_title))"
   ]
  },
  {
   "cell_type": "code",
   "execution_count": null,
   "metadata": {},
   "outputs": [],
   "source": []
  }
 ],
 "metadata": {
  "kernelspec": {
   "display_name": "Python 3",
   "language": "python",
   "name": "python3"
  },
  "language_info": {
   "codemirror_mode": {
    "name": "ipython",
    "version": 3
   },
   "file_extension": ".py",
   "mimetype": "text/x-python",
   "name": "python",
   "nbconvert_exporter": "python",
   "pygments_lexer": "ipython3",
   "version": "3.8.1"
  }
 },
 "nbformat": 4,
 "nbformat_minor": 4
}
