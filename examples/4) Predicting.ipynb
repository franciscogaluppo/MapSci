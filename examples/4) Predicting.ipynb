{
 "cells": [
  {
   "cell_type": "markdown",
   "metadata": {},
   "source": [
    "# Predicting"
   ]
  },
  {
   "cell_type": "code",
   "execution_count": 1,
   "metadata": {},
   "outputs": [],
   "source": []
  },
  {
   "cell_type": "code",
   "execution_count": 1,
   "metadata": {},
   "outputs": [],
   "source": [
    "import sys\n",
    "sys.path.append(\"../\")\n",
    "from MapSci.papers import papers\n",
    "from MapSci.research_space import research_space\n",
    "from MapSci.entities import entities\n",
    "import MapSci.agg as agg\n",
    "import MapSci.predict as pr"
   ]
  },
  {
   "cell_type": "markdown",
   "metadata": {},
   "source": [
    "TEXT"
   ]
  },
  {
   "cell_type": "code",
   "execution_count": 2,
   "metadata": {},
   "outputs": [
    {
     "name": "stdout",
     "output_type": "stream",
     "text": [
      "guevara(2000, 2014, 0.1)\n",
      "chinazzi(2000, 2014, 0.1, 200)\n"
     ]
    }
   ],
   "source": [
    "pp = papers(\"lattes\")\n",
    "maps = research_space(\"lattes\", pp)\n",
    "maps.compute(2000, 2014)"
   ]
  },
  {
   "cell_type": "code",
   "execution_count": 3,
   "metadata": {},
   "outputs": [],
   "source": [
    "presence = pp.presence(2000, 2014)\n",
    "indices = maps.phi[\"guevara(2000, 2014, 0.1)\"][1]\n",
    "scientists = entities(presence, indices)"
   ]
  },
  {
   "cell_type": "code",
   "execution_count": 5,
   "metadata": {},
   "outputs": [],
   "source": [
    "inst, st = agg.get_insts(scientists.set, \"../dataset/lattes/pesquisadores.csv\", sep=\";sep;\")\n",
    "\n",
    "xi = agg.aggregate(presence[1], inst)\n",
    "presence_inst = pp.presence(2000, 2014, x=xi)\n",
    "institutions = entities(presence_inst, indices)\n",
    "\n",
    "xs = agg.aggregate(presence[1], st)\n",
    "presence_st = pp.presence(2000, 2014, x=xs)\n",
    "states = entities(presence_st, indices)"
   ]
  },
  {
   "cell_type": "markdown",
   "metadata": {},
   "source": [
    "### Prediction"
   ]
  },
  {
   "cell_type": "code",
   "execution_count": 9,
   "metadata": {},
   "outputs": [],
   "source": [
    "guev = maps.phi[\"guevara(2000, 2014, 0.1)\"][0]\n",
    "chin = maps.phi[\"chinazzi(2000, 2014, 0.1, 200)\"][0]"
   ]
  },
  {
   "cell_type": "markdown",
   "metadata": {},
   "source": [
    "*evaluating the transition from an inactive to an active state*"
   ]
  },
  {
   "cell_type": "code",
   "execution_count": 22,
   "metadata": {},
   "outputs": [
    {
     "data": {
      "text/plain": [
       "[(0.32805, 'museology'),\n",
       " (0.27583, 'signal processing'),\n",
       " (0.27155, 'theoretical computer science'),\n",
       " (0.26721, 'media technology'),\n",
       " (0.24403, 'logic'),\n",
       " (0.22847, 'computer graphics and computer-aided design'),\n",
       " (0.22656, 'human-computer interaction'),\n",
       " (0.17321, 'information systems and management'),\n",
       " (0.16858, 'control and systems engineering'),\n",
       " (0.15695, 'management information systems')]"
      ]
     },
     "execution_count": 22,
     "metadata": {},
     "output_type": "execute_result"
    }
   ],
   "source": [
    "# Laender\n",
    "scientists.predict(9089204821424223, guev, 'inactive-active')[:10]"
   ]
  },
  {
   "cell_type": "code",
   "execution_count": 32,
   "metadata": {},
   "outputs": [
    {
     "data": {
      "text/plain": [
       "[(0.07867, 'information systems'),\n",
       " (0.06749, 'computer vision and pattern recognition'),\n",
       " (0.06358, 'computer science (miscellaneous)'),\n",
       " (0.06116, 'artificial intelligence'),\n",
       " (0.0604, 'theoretical computer science'),\n",
       " (0.05736, 'signal processing'),\n",
       " (0.05637, 'computer graphics and computer-aided design'),\n",
       " (0.05598, 'information systems and management'),\n",
       " (0.05582, 'computer science applications'),\n",
       " (0.05411, 'logic')]"
      ]
     },
     "execution_count": 32,
     "metadata": {},
     "output_type": "execute_result"
    }
   ],
   "source": [
    "# Ana\n",
    "scientists.predict(2408991231058279, chin, 'inactive-active')[:10]"
   ]
  },
  {
   "cell_type": "markdown",
   "metadata": {},
   "source": [
    "*evaluating the transition from an nascent to an developed state*"
   ]
  },
  {
   "cell_type": "code",
   "execution_count": 18,
   "metadata": {},
   "outputs": [
    {
     "data": {
      "text/plain": [
       "[(0.72025, 'family practice'),\n",
       " (0.71126, 'urology'),\n",
       " (0.61904, 'advanced and specialized nursing'),\n",
       " (0.60379, 'anatomy'),\n",
       " (0.5844, 'human factors and ergonomics'),\n",
       " (0.57649, 'logic'),\n",
       " (0.5606, 'critical care and intensive care medicine'),\n",
       " (0.55542, 'electrochemistry'),\n",
       " (0.53811, 'medical and surgical nursing'),\n",
       " (0.52879, 'radiological and ultrasound technology')]"
      ]
     },
     "execution_count": 18,
     "metadata": {},
     "output_type": "execute_result"
    }
   ],
   "source": [
    "# Universidade Federal de Minas Gerais\n",
    "institutions.predict('universidade federal de minas gerais', guev, 'nascent-developed')[:10]"
   ]
  },
  {
   "cell_type": "markdown",
   "metadata": {},
   "source": [
    "*evaluating the transition from an intermediate to an developed state*"
   ]
  },
  {
   "cell_type": "code",
   "execution_count": 31,
   "metadata": {},
   "outputs": [
    {
     "data": {
      "text/plain": [
       "[(0.53724, 'nature and landscape conservation'),\n",
       " (0.53666, 'electrochemistry'),\n",
       " (0.52147, 'process chemistry and technology'),\n",
       " (0.51276, 'aquatic science'),\n",
       " (0.503, 'polymers and plastics'),\n",
       " (0.49625, 'surfaces and interfaces'),\n",
       " (0.4933, 'colloid and surface chemistry'),\n",
       " (0.47303, 'renewable energy, sustainability and the environment'),\n",
       " (0.46187, 'community and home care'),\n",
       " (0.46187, 'atmospheric science')]"
      ]
     },
     "execution_count": 31,
     "metadata": {},
     "output_type": "execute_result"
    }
   ],
   "source": [
    "# Minas Gerais\n",
    "states.predict('31', chin, 'intermediate-developed')[:10]"
   ]
  },
  {
   "cell_type": "markdown",
   "metadata": {},
   "source": [
    "### Accuracy"
   ]
  },
  {
   "cell_type": "code",
   "execution_count": null,
   "metadata": {},
   "outputs": [],
   "source": []
  }
 ],
 "metadata": {
  "kernelspec": {
   "display_name": "Python 3",
   "language": "python",
   "name": "python3"
  },
  "language_info": {
   "codemirror_mode": {
    "name": "ipython",
    "version": 3
   },
   "file_extension": ".py",
   "mimetype": "text/x-python",
   "name": "python",
   "nbconvert_exporter": "python",
   "pygments_lexer": "ipython3",
   "version": "3.8.1"
  }
 },
 "nbformat": 4,
 "nbformat_minor": 4
}
