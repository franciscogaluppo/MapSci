{
 "cells": [
  {
   "cell_type": "markdown",
   "metadata": {},
   "source": [
    "# Predicting"
   ]
  },
  {
   "cell_type": "code",
   "execution_count": 1,
   "metadata": {},
   "outputs": [],
   "source": []
  },
  {
   "cell_type": "code",
   "execution_count": 1,
   "metadata": {},
   "outputs": [],
   "source": [
    "import sys\n",
    "sys.path.append(\"../\")\n",
    "from MapSci.papers import papers\n",
    "from MapSci.research_space import research_space\n",
    "from MapSci.entities import entities\n",
    "import MapSci.agg as agg\n",
    "import MapSci.predict as pr"
   ]
  },
  {
   "cell_type": "markdown",
   "metadata": {},
   "source": [
    "TEXT"
   ]
  },
  {
   "cell_type": "code",
   "execution_count": 2,
   "metadata": {},
   "outputs": [
    {
     "name": "stdout",
     "output_type": "stream",
     "text": [
      "guevara(2000, 2014, 0.1)\n",
      "chinazzi(2000, 2014, 0.1, 200)\n"
     ]
    }
   ],
   "source": [
    "pp = papers(\"lattes\")\n",
    "maps = research_space(\"lattes\", pp)\n",
    "maps.compute(2000, 2014)"
   ]
  },
  {
   "cell_type": "code",
   "execution_count": 3,
   "metadata": {},
   "outputs": [],
   "source": [
    "presence = pp.presence(2000, 2014)\n",
    "indices = maps.phi[\"guevara(2000, 2014, 0.1)\"][1]\n",
    "scientists = entities(presence, indices)"
   ]
  },
  {
   "cell_type": "code",
   "execution_count": 5,
   "metadata": {},
   "outputs": [],
   "source": [
    "inst, st = agg.get_insts(scientists.set, \"../dataset/lattes/pesquisadores.csv\", sep=\";sep;\")\n",
    "\n",
    "xi = agg.aggregate(presence[1], inst)\n",
    "presence_inst = pp.presence(2000, 2014, x=xi)\n",
    "institutions = entities(presence_inst, indices)\n",
    "\n",
    "xs = agg.aggregate(presence[1], st)\n",
    "presence_st = pp.presence(2000, 2014, x=xs)\n",
    "states = entities(presence_st, indices)"
   ]
  },
  {
   "cell_type": "markdown",
   "metadata": {},
   "source": [
    "### Prediction"
   ]
  },
  {
   "cell_type": "code",
   "execution_count": 9,
   "metadata": {},
   "outputs": [],
   "source": [
    "guev = maps.phi[\"guevara(2000, 2014, 0.1)\"][0]\n",
    "chin = maps.phi[\"chinazzi(2000, 2014, 0.1, 200)\"][0]"
   ]
  },
  {
   "cell_type": "markdown",
   "metadata": {},
   "source": [
    "*evaluating the transition from an inactive to an active state*"
   ]
  },
  {
   "cell_type": "code",
   "execution_count": 22,
   "metadata": {},
   "outputs": [
    {
     "data": {
      "text/plain": [
       "[(0.32805, 'museology'),\n",
       " (0.27583, 'signal processing'),\n",
       " (0.27155, 'theoretical computer science'),\n",
       " (0.26721, 'media technology'),\n",
       " (0.24403, 'logic'),\n",
       " (0.22847, 'computer graphics and computer-aided design'),\n",
       " (0.22656, 'human-computer interaction'),\n",
       " (0.17321, 'information systems and management'),\n",
       " (0.16858, 'control and systems engineering'),\n",
       " (0.15695, 'management information systems')]"
      ]
     },
     "execution_count": 22,
     "metadata": {},
     "output_type": "execute_result"
    }
   ],
   "source": [
    "# Laender\n",
    "scientists.predict(9089204821424223, guev, 'inactive-active')[:10]"
   ]
  },
  {
   "cell_type": "code",
   "execution_count": 32,
   "metadata": {},
   "outputs": [
    {
     "data": {
      "text/plain": [
       "[(0.07867, 'information systems'),\n",
       " (0.06749, 'computer vision and pattern recognition'),\n",
       " (0.06358, 'computer science (miscellaneous)'),\n",
       " (0.06116, 'artificial intelligence'),\n",
       " (0.0604, 'theoretical computer science'),\n",
       " (0.05736, 'signal processing'),\n",
       " (0.05637, 'computer graphics and computer-aided design'),\n",
       " (0.05598, 'information systems and management'),\n",
       " (0.05582, 'computer science applications'),\n",
       " (0.05411, 'logic')]"
      ]
     },
     "execution_count": 32,
     "metadata": {},
     "output_type": "execute_result"
    }
   ],
   "source": [
    "# Ana\n",
    "scientists.predict(2408991231058279, chin, 'inactive-active')[:10]"
   ]
  },
  {
   "cell_type": "markdown",
   "metadata": {},
   "source": [
    "*evaluating the transition from an nascent to an developed state*"
   ]
  },
  {
   "cell_type": "code",
   "execution_count": 18,
   "metadata": {},
   "outputs": [
    {
     "data": {
      "text/plain": [
       "[(0.72025, 'family practice'),\n",
       " (0.71126, 'urology'),\n",
       " (0.61904, 'advanced and specialized nursing'),\n",
       " (0.60379, 'anatomy'),\n",
       " (0.5844, 'human factors and ergonomics'),\n",
       " (0.57649, 'logic'),\n",
       " (0.5606, 'critical care and intensive care medicine'),\n",
       " (0.55542, 'electrochemistry'),\n",
       " (0.53811, 'medical and surgical nursing'),\n",
       " (0.52879, 'radiological and ultrasound technology')]"
      ]
     },
     "execution_count": 18,
     "metadata": {},
     "output_type": "execute_result"
    }
   ],
   "source": [
    "# Universidade Federal de Minas Gerais\n",
    "institutions.predict('universidade federal de minas gerais', guev, 'nascent-developed')[:10]"
   ]
  },
  {
   "cell_type": "markdown",
   "metadata": {},
   "source": [
    "*evaluating the transition from an intermediate to an developed state*"
   ]
  },
  {
   "cell_type": "code",
   "execution_count": 31,
   "metadata": {},
   "outputs": [
    {
     "data": {
      "text/plain": [
       "[(0.53724, 'nature and landscape conservation'),\n",
       " (0.53666, 'electrochemistry'),\n",
       " (0.52147, 'process chemistry and technology'),\n",
       " (0.51276, 'aquatic science'),\n",
       " (0.503, 'polymers and plastics'),\n",
       " (0.49625, 'surfaces and interfaces'),\n",
       " (0.4933, 'colloid and surface chemistry'),\n",
       " (0.47303, 'renewable energy, sustainability and the environment'),\n",
       " (0.46187, 'community and home care'),\n",
       " (0.46187, 'atmospheric science')]"
      ]
     },
     "execution_count": 31,
     "metadata": {},
     "output_type": "execute_result"
    }
   ],
   "source": [
    "# Minas Gerais\n",
    "states.predict('31', chin, 'intermediate-developed')[:10]"
   ]
  },
  {
   "cell_type": "markdown",
   "metadata": {},
   "source": [
    "### Accuracy"
   ]
  },
  {
   "cell_type": "code",
   "execution_count": 41,
   "metadata": {},
   "outputs": [],
   "source": [
    "def accuracy(level, transition):\n",
    "    auc = list()\n",
    "    dic = {x: rs_2020.fields.index(x) for x in rs_2011.fields}\n",
    "    rng = [rs_2011.scientists, set(x[0] for x in rs_2011.rca[1]), set(x[0] for x in rs_2011.rca[2])]\n",
    "    u = 0 if transition == 'inactive-active' else 1\n",
    "    \n",
    "    if level == 'scientist':\n",
    "        lev = 0\n",
    "    elif level == 'institution':\n",
    "        lev = 1\n",
    "    elif level == 'state':\n",
    "        lev = 2\n",
    "\n",
    "    for s in rng[lev]:\n",
    "        pred = rs_2011.predict(s, level, transition)        \n",
    "        true = [1 if dic[x[1]] in rs_2020._U[lev][u][s] else 0 for x in pred]\n",
    "        prob = [x[0] for x in pred]\n",
    "\n",
    "        if sum(true) == 0 or sum(true) == len(true):\n",
    "            continue\n",
    "\n",
    "        auc.append(roc_auc_score(true, prob))\n",
    "        \n",
    "    fp = dict(marker='o', markersize=5, linestyle='none', alpha=0.01)\n",
    "    plt.boxplot(auc, flierprops=fp)\n",
    "    plt.title(\"{}: {}\".format(level, transition))\n",
    "    plt.show()\n",
    "    \n",
    "    return sum(1 for x in auc if x < 0.5) / len(auc)"
   ]
  },
  {
   "cell_type": "code",
   "execution_count": null,
   "metadata": {},
   "outputs": [],
   "source": [
    "from collections import defaultdict\n",
    "\n",
    "sumx = defaultdict(int)\n",
    "sumi = defaultdict(int)\n",
    "sume = defaultdict(int)\n",
    "\n",
    "s = set(rs_2011.scientists)\n",
    "\n",
    "for sf in rs_2011.x:\n",
    "    if sf[0] not in s:\n",
    "        continue\n",
    "\n",
    "    ins = rs_2011.inst[sf[0]]\n",
    "    est = rs_2011.est[sf[0]]\n",
    "\n",
    "    sumi[ins] += rs_2011.x[sf]\n",
    "    sume[est] += rs_2011.x[sf]\n",
    "    sumx[sf[0]] += rs_2011.x[sf]\n",
    "    \n",
    "sums = [sumx, sumi, sume]"
   ]
  },
  {
   "cell_type": "code",
   "execution_count": null,
   "metadata": {},
   "outputs": [],
   "source": [
    "def accuracy(level, transition):\n",
    "    # Translation\n",
    "    dic = {x: rs_2020.fields.index(x) for x in rs_2011.fields}\n",
    "    dic11 = {x: rs_2011.fields.index(x) for x in rs_2011.fields}\n",
    "    rng = [rs_2011.scientists, set(x[0] for x in rs_2011.rca[1]), set(x[0] for x in rs_2011.rca[2])]\n",
    "    u = 0 if transition == 'inactive-active' else 1\n",
    "    \n",
    "    if level == 'scientist':\n",
    "        lev = 0\n",
    "    elif level == 'institution':\n",
    "        lev = 1\n",
    "    elif level == 'state':\n",
    "        lev = 2\n",
    "\n",
    "    auc = [list(), list()]\n",
    "    wins = [0,0,0]\n",
    "    wins_over = [0,0,0]\n",
    "    spearman = list()\n",
    "    areas = [list(), list()]\n",
    "    X = list()\n",
    "    \n",
    "    for s in rng[lev]:\n",
    "        # Prediction\n",
    "        pred = [0,0]\n",
    "        pred[0] = rs_2011.predict(s, level, transition)\n",
    "        pred[1] = ss_2011.predict(s, level, transition)\n",
    "        rank = [set([x[1] for x in p]) for p in pred]\n",
    "        \n",
    "        # Add missing classes\n",
    "        for i in [0, 1]:\n",
    "            for j in [x for x in rank[not i] if x not in rank[i]]:\n",
    "                pred[i].append((0.0, j))\n",
    "                        \n",
    "        # Ground truth\n",
    "        true = [[1 if dic[x[1]] in rs_2020._U[lev][u][s] else 0 for x in p] for p in pred]\n",
    "        if sum([1 for t in true if sum(t) == 0 or sum(t) == len(t)]) > 0:\n",
    "            continue\n",
    "        \n",
    "        prob = [[x[0] for x in p] for p in pred]\n",
    "        rank = [[x[1] for x in p] for p in pred]\n",
    "        \n",
    "        auc[0].append(roc_auc_score(true[0], prob[0]))\n",
    "        auc[1].append(roc_auc_score(true[1], prob[1]))\n",
    "        \n",
    "        # Summary\n",
    "        if auc[0][-1] > auc[1][-1]:\n",
    "            wins[0] += 1\n",
    "            if auc[1][-1] > 0.5:\n",
    "                wins_over[0] += 1\n",
    "        elif auc[0][-1] < auc[1][-1]:\n",
    "            wins[1] += 1\n",
    "            if auc[0][-1] > 0.5:\n",
    "                wins_over[1] += 1\n",
    "        else:\n",
    "            wins[2] += 1\n",
    "            if auc[1][-1] > 0.5:\n",
    "                wins_over[2] += 1\n",
    "        \n",
    "        # Plot data\n",
    "        n = len(true[0])\n",
    "        spearman.append(1 - (6*sum((x - rank[1].index(rank[0][x]))**2 for x in range(n)))/(n*(n**2-1)))\n",
    "        areas[0].append(sum([1 if dic11[x] in rs_2011._U[lev][0][s] else 0 for x in rs_2011.fields]))\n",
    "        areas[1].append(sum([1 if dic11[x] in rs_2011._U[lev][1][s] else 0 for x in rs_2011.fields]))\n",
    "        X.append(sums[lev][s])\n",
    "        \n",
    "    # Plots\n",
    "    plt.rcParams[\"figure.figsize\"] = (18,18)\n",
    "    plt.subplot(3,3,1)\n",
    "#     fp = dict(marker='o', markersize=5, linestyle='none', alpha=0.01)\n",
    "#     plt.boxplot(auc, flierprops=fp)\n",
    "    plt.violinplot(auc, points=60, widths=0.7, showextrema=True, showmedians=True, bw_method=0.5)\n",
    "    plt.title(\"{}: {}\".format(level, transition))\n",
    "    plt.ylabel('AUC ROC')\n",
    "    plt.xticks([1, 2], ['RS', 'SS'])\n",
    "    \n",
    "    ax = plt.subplot(3,3,2)\n",
    "#     plt.hist(spearman, density=True, bins=20)\n",
    "    pd.DataFrame(spearman).plot(kind='density', ax=ax)\n",
    "    plt.title(\"Spearman Correlation Distribution\")\n",
    "    plt.ylabel('Densidade')\n",
    "    \n",
    "    ax = plt.subplot(3,3,3)\n",
    "    gaussian(ax, auc[0], auc[1], \"RS\", \"SS\", \"Comparação entre previsões\", comp=True)\n",
    "    \n",
    "    ax = plt.subplot(3,3,4)\n",
    "    gaussian(ax, areas[0], auc[0], \"Número de áreas ativas\", \"AUC ROC\", \"Áreas ativas X predição (RS)\", 'PuBu')\n",
    "    ax = plt.subplot(3,3,7)\n",
    "    gaussian(ax, areas[0], auc[1], \"Número de áreas ativas\", \"AUC ROC\", \"Áreas ativas X predição (SS)\", 'PuBu')\n",
    "    \n",
    "    ax = plt.subplot(3,3,5)\n",
    "    gaussian(ax, areas[1], auc[0], \"Número de áreas desenvolvidas\", \"AUC ROC\", \"Áreas desenvolvidas X predição (RS)\", 'Oranges')\n",
    "    ax = plt.subplot(3,3,8)\n",
    "    gaussian(ax, areas[1], auc[1], \"Número de áreas desenvolvidas\", \"AUC ROC\", \"Áreas desenvolvidas X predição (SS)\", 'Oranges')\n",
    "    \n",
    "    ax = plt.subplot(3,3,6)\n",
    "    gaussian(ax, np.log(X), auc[0], \"LogNúmero de publicações\", \"AUC ROC\", \"LogPublicações e predição (RS)\", 'Greens')\n",
    "    ax = plt.subplot(3,3,9)\n",
    "    gaussian(ax, np.log(X), auc[1], \"LogNúmero de publicações\", \"AUC ROC\", \"LogPublicações e predição (SS)\", 'Greens')\n",
    "    \n",
    "    plt.show()\n",
    "    \n",
    "    # print summary\n",
    "    print(\"Valor mínimo\", [min(x) for x in auc])\n",
    "    print(\"Fração menor que 0.5\", [sum(1 for x in a if x < 0.5) / len(a) for a in auc])\n",
    "    print(\"Fração que foi melhor\", [x / sum(wins) for x in wins[:2]])\n",
    "    print(\"Fração que foi melhor, acima de 0.5\", [x / sum(wins_over) for x in wins_over[:2]])\n",
    "    print(\"Médias\", [np.mean(x) for x in auc])\n",
    "    print(\"Anova:\", st.f_oneway(*auc))\n",
    "    print(\"Número de amostras:\", len(auc[0]))"
   ]
  }
 ],
 "metadata": {
  "kernelspec": {
   "display_name": "Python 3",
   "language": "python",
   "name": "python3"
  },
  "language_info": {
   "codemirror_mode": {
    "name": "ipython",
    "version": 3
   },
   "file_extension": ".py",
   "mimetype": "text/x-python",
   "name": "python",
   "nbconvert_exporter": "python",
   "pygments_lexer": "ipython3",
   "version": "3.8.1"
  }
 },
 "nbformat": 4,
 "nbformat_minor": 4
}
