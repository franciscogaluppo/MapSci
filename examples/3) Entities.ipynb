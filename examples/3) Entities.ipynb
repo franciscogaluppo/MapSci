{
 "cells": [
  {
   "cell_type": "markdown",
   "metadata": {},
   "source": [
    "# Adding Institutions\n",
    "\n",
    "Here we show how to add institutions to the researchers"
   ]
  },
  {
   "cell_type": "code",
   "execution_count": 1,
   "metadata": {},
   "outputs": [],
   "source": [
    "import sys\n",
    "sys.path.append(\"../\")\n",
    "from MapSci.papers import papers\n",
    "from MapSci.research_space import research_space"
   ]
  },
  {
   "cell_type": "code",
   "execution_count": 2,
   "metadata": {},
   "outputs": [],
   "source": [
    "pp = papers(\"lattes\")\n",
    "maps = research_space(\"lattes\", pp)\n",
    "maps.compute(2000, 2014)"
   ]
  },
  {
   "cell_type": "code",
   "execution_count": 3,
   "metadata": {},
   "outputs": [],
   "source": [
    "rs.set_institution(\"../../dataset/lattes/pesquisadores.csv\", sep=\";sep;\")"
   ]
  },
  {
   "cell_type": "markdown",
   "metadata": {},
   "source": [
    "We can see that both Professor Alberto Laender and Professor Ana Paula work at UFMG"
   ]
  },
  {
   "cell_type": "code",
   "execution_count": 5,
   "metadata": {},
   "outputs": [
    {
     "data": {
      "text/plain": [
       "'universidade federal de minas gerais'"
      ]
     },
     "execution_count": 5,
     "metadata": {},
     "output_type": "execute_result"
    }
   ],
   "source": [
    "rs.inst[9089204821424223]"
   ]
  },
  {
   "cell_type": "code",
   "execution_count": 6,
   "metadata": {},
   "outputs": [
    {
     "data": {
      "text/plain": [
       "'universidade federal de minas gerais'"
      ]
     },
     "execution_count": 6,
     "metadata": {},
     "output_type": "execute_result"
    }
   ],
   "source": [
    "rs.inst[2408991231058279]"
   ]
  },
  {
   "cell_type": "code",
   "execution_count": null,
   "metadata": {},
   "outputs": [],
   "source": []
  },
  {
   "cell_type": "code",
   "execution_count": null,
   "metadata": {},
   "outputs": [],
   "source": [
    "import numpy as np\n",
    "import pandas as pd\n",
    "from collections import Counter\n",
    "import matplotlib.pyplot as plt\n",
    "import matplotlib.cm as cmx\n",
    "\n",
    "import sys\n",
    "sys.path.append(\"../\")\n",
    "from lib.rs import research_space"
   ]
  },
  {
   "cell_type": "code",
   "execution_count": null,
   "metadata": {},
   "outputs": [],
   "source": [
    "key = \"sjr\"\n",
    "rs = research_space(key)\n",
    "rs.load(2011)\n",
    "rs.set_institution(\"../../dataset/lattes/pesquisadores.csv\", sep=\";sep;\")\n",
    "areas = pd.read_pickle(\"../../dataset/SJR/areas.pkl\")"
   ]
  },
  {
   "cell_type": "code",
   "execution_count": null,
   "metadata": {},
   "outputs": [],
   "source": [
    "rs.advantages()"
   ]
  },
  {
   "cell_type": "code",
   "execution_count": null,
   "metadata": {},
   "outputs": [],
   "source": [
    "insts = [\n",
    "    \"universidade federal de minas gerais\",\n",
    "    \"universidade federal de lavras\",\n",
    "    \"universidade de sao paulo\",\n",
    "    \"universidade federal da paraiba\",\n",
    "    \"universidade federal rural de pernambuco\",\n",
    "    \"pontificia universidade catolica de minas gerais\",\n",
    "    \"petrobras\",\n",
    "    \"ministerio da fazenda\"\n",
    "]"
   ]
  },
  {
   "cell_type": "code",
   "execution_count": null,
   "metadata": {},
   "outputs": [],
   "source": [
    "dict_area = areas[[\"Field\", \"Classification\"]].set_index(\"Field\").to_dict()[\"Classification\"]\n",
    "unique = areas[\"Classification\"].unique()[1:]\n",
    "size = Counter(areas[\"Classification\"].tolist())\n",
    "macro = dict()\n",
    "\n",
    "for sf, rca in rs.rca_institution.items():\n",
    "    if rca > 1:\n",
    "        if (sf[0], dict_area[sf[1]]) in macro:\n",
    "            macro[(sf[0], dict_area[sf[1]])] += 1 / size[dict_area[sf[1]]]\n",
    "        else:\n",
    "            macro[(sf[0], dict_area[sf[1]])] = 1 / size[dict_area[sf[1]]] "
   ]
  },
  {
   "cell_type": "code",
   "execution_count": null,
   "metadata": {},
   "outputs": [],
   "source": [
    "plt.rcParams[\"figure.figsize\"] = (15,15)\n",
    "cm = cmx.get_cmap('gnuplot', 26)\n",
    "color = cm(np.linspace(0, 1, 26))\n",
    "fig = plt.figure()\n",
    "\n",
    "for i in range(len(insts)):\n",
    "    uni = insts[i]\n",
    "    areas_list = list()\n",
    "    for a in unique:\n",
    "        if (uni, a) in macro:\n",
    "            areas_list.append(macro[(uni, a)])\n",
    "        else:\n",
    "            areas_list.append(0)\n",
    "\n",
    "    sub = fig.add_subplot(4,2,i+1)\n",
    "    plt.bar(unique, areas_list, color=color, width=1.0)\n",
    "    plt.xticks(rotation=90)\n",
    "    plt.title(uni)\n",
    "    plt.ylabel(\"Fração de áreas especializadas\")\n",
    "    plt.xlabel(\"Classificação das áreas\")\n",
    "    if i < 6:\n",
    "        sub.set_xticks([])\n",
    "    \n",
    "fig.tight_layout()\n",
    "plt.show()"
   ]
  },
  {
   "cell_type": "code",
   "execution_count": null,
   "metadata": {},
   "outputs": [],
   "source": [
    "uni = \"universidade federal de lavras\"\n",
    "vals = list()\n",
    "for f in rs.fields:\n",
    "    if (uni, f) in rs.rca_institution:\n",
    "        vals.append(rs.rca_institution[(uni, f)])\n",
    "    else:\n",
    "        vals.append(0)\n",
    "\n",
    "pos = rs.plot(vals)"
   ]
  },
  {
   "cell_type": "code",
   "execution_count": null,
   "metadata": {},
   "outputs": [],
   "source": [
    "def rca_disc(val):\n",
    "    if val == 0:\n",
    "        return \"Inactive\"\n",
    "    if val < 0.5:\n",
    "        return \"Nascent\"\n",
    "    if val < 1:\n",
    "        return \"Intermediate\"\n",
    "    else:\n",
    "        return \"Developed\"\n",
    "\n",
    "dict_area = {rs.fields[x]: rca_disc(vals[x]) for x in range(len(rs.fields))}\n",
    "unique = [\"Inactive\", \"Nascent\", \"Intermediate\", \"Developed\"]\n",
    "subs = {u: v for v,u in enumerate(sorted(unique))}\n",
    "values = [subs[dict_area[node]] for node in rs.fields]\n",
    "\n",
    "pos = rs.plot(values, labels=subs)"
   ]
  }
 ],
 "metadata": {
  "kernelspec": {
   "display_name": "Python 3",
   "language": "python",
   "name": "python3"
  },
  "language_info": {
   "codemirror_mode": {
    "name": "ipython",
    "version": 3
   },
   "file_extension": ".py",
   "mimetype": "text/x-python",
   "name": "python",
   "nbconvert_exporter": "python",
   "pygments_lexer": "ipython3",
   "version": "3.8.1"
  }
 },
 "nbformat": 4,
 "nbformat_minor": 4
}
