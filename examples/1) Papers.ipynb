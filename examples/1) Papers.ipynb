{
 "cells": [
  {
   "cell_type": "markdown",
   "metadata": {},
   "source": [
    "# Papers\n",
    "\n",
    "Here we introduce our papers object. It is important to both our research space creation and entity prediction. It preprocess the publications data and store it in an easier way."
   ]
  },
  {
   "cell_type": "code",
   "execution_count": 1,
   "metadata": {},
   "outputs": [],
   "source": [
    "import itertools\n",
    "import sys\n",
    "sys.path.append(\"../\")\n",
    "from MapSci.papers import papers"
   ]
  },
  {
   "cell_type": "markdown",
   "metadata": {},
   "source": [
    "We define our object with the \"lattes_categories\" key, the name of our data source. Its purpose is to easily load previously preprocessed data with the same key, since it is a costly operation."
   ]
  },
  {
   "cell_type": "code",
   "execution_count": 2,
   "metadata": {},
   "outputs": [
    {
     "name": "stdout",
     "output_type": "stream",
     "text": [
      "File not available: use the compute function.\n"
     ]
    }
   ],
   "source": [
    "pp = papers(\"lattes_categories\")"
   ]
  },
  {
   "cell_type": "markdown",
   "metadata": {},
   "source": [
    "Since we have never used this data before, we need to provide the file so it can compute the presence matrix. We assume that the data has 4 columns:\n",
    "1. ```pesq```: The researcher id;\n",
    "1. ```ano```: The year of publication;\n",
    "1. ```catg```: A list of research areas, separated by semicolons;\n",
    "1. ```num```: The number of authors in this publication."
   ]
  },
  {
   "cell_type": "code",
   "execution_count": 3,
   "metadata": {},
   "outputs": [
    {
     "name": "stdout",
     "output_type": "stream",
     "text": [
      "CPU times: user 7min 57s, sys: 4.52 s, total: 8min 2s\n",
      "Wall time: 8min 5s\n"
     ]
    }
   ],
   "source": [
    "%%time\n",
    "pp.compute(\"../dataset/lattes_categories.csv\", sep=\";sep;\")"
   ]
  },
  {
   "cell_type": "markdown",
   "metadata": {},
   "source": [
    "With our data it takes around 8 minutes. Note that after the first run, it doesnt need to compute it again."
   ]
  },
  {
   "cell_type": "code",
   "execution_count": 4,
   "metadata": {},
   "outputs": [
    {
     "name": "stdout",
     "output_type": "stream",
     "text": [
      "Already on memory.\n"
     ]
    }
   ],
   "source": [
    "pp.compute(\"../dataset/lattes_categories.csv\", sep=\";sep;\")"
   ]
  },
  {
   "cell_type": "markdown",
   "metadata": {},
   "source": [
    "Even if we create a new object (with the same key)."
   ]
  },
  {
   "cell_type": "code",
   "execution_count": 5,
   "metadata": {},
   "outputs": [],
   "source": [
    "bb = papers(\"lattes_categories\")"
   ]
  },
  {
   "cell_type": "markdown",
   "metadata": {},
   "source": [
    "Then we can check which scientist had presence in which scientific fields in the 2011-2013 time frame. We show just the first 10 entries, each one being a pair of scientist id and scientific field."
   ]
  },
  {
   "cell_type": "code",
   "execution_count": 6,
   "metadata": {},
   "outputs": [
    {
     "name": "stdout",
     "output_type": "stream",
     "text": [
      "(900714290963020, 'medicine (miscellaneous)')\n",
      "(7348808286517702, 'veterinary (miscellaneous)')\n",
      "(2234053674635435, 'management, monitoring, policy and law')\n",
      "(6357563570334700, 'instrumentation')\n",
      "(6280867236862132, 'economics and econometrics')\n",
      "(4448223215362716, 'visual arts and performing arts')\n",
      "(250677650480495, 'soil science')\n",
      "(3133916929217420, 'medicine (miscellaneous)')\n",
      "(6368730022418127, 'cellular and molecular neuroscience')\n",
      "(3857956905317907, 'museology')\n"
     ]
    }
   ],
   "source": [
    "P = pp.presence(2011, 2013)[0]\n",
    "for i, val in enumerate(itertools.islice(P, 10)):\n",
    "    print(val)"
   ]
  }
 ],
 "metadata": {
  "kernelspec": {
   "display_name": "Python 3",
   "language": "python",
   "name": "python3"
  },
  "language_info": {
   "codemirror_mode": {
    "name": "ipython",
    "version": 3
   },
   "file_extension": ".py",
   "mimetype": "text/x-python",
   "name": "python",
   "nbconvert_exporter": "python",
   "pygments_lexer": "ipython3",
   "version": "3.9.0"
  }
 },
 "nbformat": 4,
 "nbformat_minor": 4
}
