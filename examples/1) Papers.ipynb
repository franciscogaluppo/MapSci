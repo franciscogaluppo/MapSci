{
 "cells": [
  {
   "cell_type": "markdown",
   "metadata": {},
   "source": [
    "# Papers\n",
    "\n",
    "Here we introduce our papers object. It is important to both our research space creation and entity prediction."
   ]
  },
  {
   "cell_type": "code",
   "execution_count": 1,
   "metadata": {},
   "outputs": [],
   "source": [
    "import itertools\n",
    "import sys\n",
    "sys.path.append(\"../\")\n",
    "from MapSci.papers import papers"
   ]
  },
  {
   "cell_type": "markdown",
   "metadata": {},
   "source": [
    "We define our object with the \"lattes\" key, the name of our data source."
   ]
  },
  {
   "cell_type": "code",
   "execution_count": 2,
   "metadata": {},
   "outputs": [
    {
     "name": "stdout",
     "output_type": "stream",
     "text": [
      "File not available: use the compute function.\n"
     ]
    }
   ],
   "source": [
    "pp = papers(\"lattes\")"
   ]
  },
  {
   "cell_type": "markdown",
   "metadata": {},
   "source": [
    "Since we have never used this data before, we need to provide the file so it can compute the presence matrix. With our data it takes around 10 minutes. Note that after the first run, it doesnt need to compute it again."
   ]
  },
  {
   "cell_type": "code",
   "execution_count": 3,
   "metadata": {},
   "outputs": [],
   "source": [
    "pp.compute(\"../dataset/lattes_categories.csv\", sep=\";sep;\")"
   ]
  },
  {
   "cell_type": "code",
   "execution_count": 4,
   "metadata": {},
   "outputs": [
    {
     "name": "stdout",
     "output_type": "stream",
     "text": [
      "Already on memory.\n"
     ]
    }
   ],
   "source": [
    "pp.compute(\"../dataset/lattes_categories.csv\", sep=\";sep;\")"
   ]
  },
  {
   "cell_type": "markdown",
   "metadata": {},
   "source": [
    "Even if we create a new object (with the same key)."
   ]
  },
  {
   "cell_type": "code",
   "execution_count": 5,
   "metadata": {},
   "outputs": [],
   "source": [
    "bb = papers(\"lattes\")"
   ]
  },
  {
   "cell_type": "markdown",
   "metadata": {},
   "source": [
    "Then we can check which scientist had presence in which scientific fields in the 2008-2014 time frame. We show just the first 10 entries, each one being a pair of scientist id and scientific field."
   ]
  },
  {
   "cell_type": "code",
   "execution_count": 6,
   "metadata": {},
   "outputs": [
    {
     "name": "stdout",
     "output_type": "stream",
     "text": [
      "(675154995601211, 'electronic, optical and magnetic materials')\n",
      "(4322146870938825, 'animal science and zoology')\n",
      "(6601595105701716, 'molecular biology')\n",
      "(7046131809246694, 'materials science (miscellaneous)')\n",
      "(6773304655570859, 'organic chemistry')\n",
      "(8100327524437286, 'medicine (miscellaneous)')\n",
      "(518357370991372, 'sports science')\n",
      "(7639821581156994, 'agronomy and crop science')\n",
      "(6464565985923561, 'metals and alloys')\n",
      "(8026732109356668, 'geography, planning and development')\n"
     ]
    }
   ],
   "source": [
    "P = pp.presence(2008, 2014)[0]\n",
    "for i, val in enumerate(itertools.islice(P, 10)):\n",
    "    print(val)"
   ]
  }
 ],
 "metadata": {
  "kernelspec": {
   "display_name": "Python 3",
   "language": "python",
   "name": "python3"
  },
  "language_info": {
   "codemirror_mode": {
    "name": "ipython",
    "version": 3
   },
   "file_extension": ".py",
   "mimetype": "text/x-python",
   "name": "python",
   "nbconvert_exporter": "python",
   "pygments_lexer": "ipython3",
   "version": "3.8.1"
  }
 },
 "nbformat": 4,
 "nbformat_minor": 4
}
