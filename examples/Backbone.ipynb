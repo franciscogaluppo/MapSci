{
 "cells": [
  {
   "cell_type": "code",
   "execution_count": 1,
   "metadata": {},
   "outputs": [
    {
     "name": "stderr",
     "output_type": "stream",
     "text": [
      "Loading required package: igraph\n",
      "\n",
      "\n",
      "Attaching package: ‘igraph’\n",
      "\n",
      "\n",
      "The following objects are masked from ‘package:stats’:\n",
      "\n",
      "    decompose, spectrum\n",
      "\n",
      "\n",
      "The following object is masked from ‘package:base’:\n",
      "\n",
      "    union\n",
      "\n",
      "\n"
     ]
    }
   ],
   "source": [
    "library(disparityfilter)\n",
    "library(RcppCNPy)"
   ]
  },
  {
   "cell_type": "code",
   "execution_count": 2,
   "metadata": {},
   "outputs": [],
   "source": [
    "rs <- npyLoad(\"__rscache__/sjr_phi_2011.npy\")\n",
    "ss <- npyLoad(\"__rscache__/ss_2011.npy\")"
   ]
  },
  {
   "cell_type": "code",
   "execution_count": 3,
   "metadata": {},
   "outputs": [
    {
     "data": {
      "text/html": [
       "FALSE"
      ],
      "text/latex": [
       "FALSE"
      ],
      "text/markdown": [
       "FALSE"
      ],
      "text/plain": [
       "[1] FALSE"
      ]
     },
     "metadata": {},
     "output_type": "display_data"
    }
   ],
   "source": [
    "isSymmetric(rs)"
   ]
  },
  {
   "cell_type": "code",
   "execution_count": 4,
   "metadata": {},
   "outputs": [
    {
     "data": {
      "text/html": [
       "TRUE"
      ],
      "text/latex": [
       "TRUE"
      ],
      "text/markdown": [
       "TRUE"
      ],
      "text/plain": [
       "[1] TRUE"
      ]
     },
     "metadata": {},
     "output_type": "display_data"
    }
   ],
   "source": [
    "isSymmetric(ss)"
   ]
  },
  {
   "cell_type": "code",
   "execution_count": 5,
   "metadata": {},
   "outputs": [],
   "source": [
    "grs <- graph.adjacency(rs, mode=\"directed\", weighted=TRUE)\n",
    "gss <- graph.adjacency(ss, mode=\"undirected\", weighted=TRUE)"
   ]
  },
  {
   "cell_type": "code",
   "execution_count": 6,
   "metadata": {},
   "outputs": [],
   "source": [
    "E.rs <- backbone(grs)\n",
    "E.ss <- backbone(gss)"
   ]
  },
  {
   "cell_type": "code",
   "execution_count": 7,
   "metadata": {},
   "outputs": [],
   "source": [
    "vals <- c(3, 2, 0, 2, 1, 1, 1, 2, 2, 2, 0, 0, 1, 3, 2, 1, 3, 1, 3, 3, 2, 2, 3, 0, 2, 2, 2, 2, 1, 1, 0, 1,\n",
    "          2, 1, 2, 2, 1, 1, 2, 3, 3, 1, 0, 2, 1, 1, 2, 2, 2, 2, 0, 2, 3, 1, 3, 1, 2, 3, 0, 0, 0, 2, 2, 2,\n",
    "          2, 2, 2, 2, 2, 2, 2, 3, 2, 2, 0, 0, 3, 3, 3, 0, 0, 0, 3, 3, 1, 1, 2, 1, 0, 3, 2, 2, 2, 2, 1, 2,\n",
    "          3, 3, 3, 2, 2, 2, 0, 0, 0, 1, 1, 0, 2, 2, 2, 2, 2, 2, 0, 0, 3, 0, 2, 3, 2, 0, 1, 1, 2, 0, 0, 3,\n",
    "          1, 0, 2, 3, 2, 2, 2, 2, 0, 0, 2, 2, 3, 0, 0, 0, 0, 2, 0, 0, 0, 3, 3, 1, 3, 2, 1, 0, 1, 2, 3, 0,\n",
    "          2, 3, 2, 1, 2, 0, 0, 3, 3, 0, 3, 3, 3, 3, 2, 0, 3, 3, 3, 2, 3, 2, 2, 0, 2, 2, 2, 2, 2, 0, 0, 0,\n",
    "          2, 1, 0, 2, 1, 1, 0, 3, 3, 2, 2, 0, 1, 0, 3, 1, 2, 2, 2, 0, 0, 0, 0, 2, 2, 0, 0, 0, 0, 0, 2, 3,\n",
    "          0, 0, 0, 2, 1, 0, 0, 0, 0, 1, 1, 0, 0, 1, 0, 3, 2, 0, 2, 1, 0, 1, 0, 3, 2, 2, 2, 0, 0, 3, 3, 0,\n",
    "          0, 2, 0, 0, 0, 3, 2, 0, 0, 0, 3, 2, 1, 2, 0, 3, 3, 3, 3, 2, 1, 2, 2, 0, 0, 2, 2, 3, 3, 2, 1, 2,\n",
    "          2, 0, 2, 3, 1, 0, 3, 3, 0, 0, 1, 3, 2, 2) + 1"
   ]
  },
  {
   "cell_type": "code",
   "execution_count": 13,
   "metadata": {},
   "outputs": [],
   "source": [
    "hrs <- graph_from_edgelist(as.matrix(E.rs[E.rs[,\"alpha\"] < 0.000165, c(\"from\", \"to\")]), directed=T)\n",
    "hss <- graph_from_edgelist(as.matrix(E.ss[E.ss[,\"alpha\"] < 0.025, c(\"from\", \"to\")]), directed=F)"
   ]
  },
  {
   "cell_type": "code",
   "execution_count": 10,
   "metadata": {},
   "outputs": [
    {
     "data": {
      "text/html": [
       "<strong>pdf:</strong> 2"
      ],
      "text/latex": [
       "\\textbf{pdf:} 2"
      ],
      "text/markdown": [
       "**pdf:** 2"
      ],
      "text/plain": [
       "pdf \n",
       "  2 "
      ]
     },
     "metadata": {},
     "output_type": "display_data"
    }
   ],
   "source": [
    "pdf(\"backbone2.pdf\", 14, 7)\n",
    "par(mfrow=c(1,2))\n",
    "\n",
    "plot(hss, vertex.size=5, edge.eidth=0.5, edge.arrow.size=0, vertex.color=vals,vertex.label=NA,\n",
    "     main=paste(\"StarSpace alpha=0.05\\nEdges =\", dim(E.ss)[1]))\n",
    "legend(\"topleft\", legend=c(\"health\", \"life\", \"physical\", \"social\"), pch=21, pt.bg=c(categorical_pal(4)))\n",
    "\n",
    "plot(hrs, vertex.size=5, edge.eidth=0.5, edge.arrow.size=0, vertex.color=vals,vertex.label=NA,\n",
    "     main=paste(\"ResearchSpace alpha=0.000165\\nEdges = \", length(E.rs[E.rs[,\"alpha\"] < 0.000165, \"alpha\"])))\n",
    "legend(\"topleft\", legend=c(\"health\", \"life\", \"physical\", \"social\"), pch=21, pt.bg=c(categorical_pal(4)))\n",
    "\n",
    "dev.off()"
   ]
  },
  {
   "cell_type": "code",
   "execution_count": 15,
   "metadata": {},
   "outputs": [
    {
     "data": {
      "text/html": [
       "<strong>pdf:</strong> 2"
      ],
      "text/latex": [
       "\\textbf{pdf:} 2"
      ],
      "text/markdown": [
       "**pdf:** 2"
      ],
      "text/plain": [
       "pdf \n",
       "  2 "
      ]
     },
     "metadata": {},
     "output_type": "display_data"
    }
   ],
   "source": [
    "pdf(\"backbone3.pdf\", 7, 7)\n",
    "\n",
    "plot(hss, vertex.size=5, edge.eidth=0.5, edge.arrow.size=0, vertex.color=vals,vertex.label=NA,\n",
    "     main=paste(\"StarSpace alpha=0.025\\nEdges =\", length(E.ss[E.ss[,\"alpha\"] < 0.01, \"alpha\"])))\n",
    "legend(\"topleft\", legend=c(\"health\", \"life\", \"physical\", \"social\"), pch=21, pt.bg=c(categorical_pal(4)))\n",
    "\n",
    "dev.off()"
   ]
  },
  {
   "cell_type": "code",
   "execution_count": 74,
   "metadata": {},
   "outputs": [
    {
     "data": {
      "text/html": [
       "<style>\n",
       ".dl-inline {width: auto; margin:0; padding: 0}\n",
       ".dl-inline>dt, .dl-inline>dd {float: none; width: auto; display: inline-block}\n",
       ".dl-inline>dt::after {content: \":\\0020\"; padding-right: .5ex}\n",
       ".dl-inline>dt:not(:first-of-type) {padding-left: .5ex}\n",
       "</style><dl class=dl-inline><dt>0%</dt><dd>0.000255652962373602</dd><dt>25%</dt><dd>0.0174866826724181</dd><dt>50%</dt><dd>0.0291327352382869</dd><dt>75%</dt><dd>0.0397371178724279</dd><dt>100%</dt><dd>0.0499912009606419</dd></dl>\n"
      ],
      "text/latex": [
       "\\begin{description*}\n",
       "\\item[0\\textbackslash{}\\%] 0.000255652962373602\n",
       "\\item[25\\textbackslash{}\\%] 0.0174866826724181\n",
       "\\item[50\\textbackslash{}\\%] 0.0291327352382869\n",
       "\\item[75\\textbackslash{}\\%] 0.0397371178724279\n",
       "\\item[100\\textbackslash{}\\%] 0.0499912009606419\n",
       "\\end{description*}\n"
      ],
      "text/markdown": [
       "0%\n",
       ":   0.00025565296237360225%\n",
       ":   0.017486682672418150%\n",
       ":   0.029132735238286975%\n",
       ":   0.0397371178724279100%\n",
       ":   0.0499912009606419\n",
       "\n"
      ],
      "text/plain": [
       "         0%         25%         50%         75%        100% \n",
       "0.000255653 0.017486683 0.029132735 0.039737118 0.049991201 "
      ]
     },
     "metadata": {},
     "output_type": "display_data"
    }
   ],
   "source": [
    "quantile(E.ss[E.ss[,\"alpha\"] < 0.05, \"alpha\"])"
   ]
  },
  {
   "cell_type": "code",
   "execution_count": 94,
   "metadata": {},
   "outputs": [
    {
     "data": {
      "text/html": [
       "1867"
      ],
      "text/latex": [
       "1867"
      ],
      "text/markdown": [
       "1867"
      ],
      "text/plain": [
       "[1] 1867"
      ]
     },
     "metadata": {},
     "output_type": "display_data"
    }
   ],
   "source": [
    "length(E.rs[E.rs[,\"alpha\"] < 0.000165, \"alpha\"])"
   ]
  },
  {
   "cell_type": "code",
   "execution_count": 77,
   "metadata": {},
   "outputs": [
    {
     "data": {
      "text/html": [
       "1872"
      ],
      "text/latex": [
       "1872"
      ],
      "text/markdown": [
       "1872"
      ],
      "text/plain": [
       "[1] 1872"
      ]
     },
     "metadata": {},
     "output_type": "display_data"
    }
   ],
   "source": [
    "dim(E.ss)[1]"
   ]
  }
 ],
 "metadata": {
  "kernelspec": {
   "display_name": "R",
   "language": "R",
   "name": "ir"
  },
  "language_info": {
   "codemirror_mode": "r",
   "file_extension": ".r",
   "mimetype": "text/x-r-source",
   "name": "R",
   "pygments_lexer": "r",
   "version": "3.6.2"
  }
 },
 "nbformat": 4,
 "nbformat_minor": 4
}
